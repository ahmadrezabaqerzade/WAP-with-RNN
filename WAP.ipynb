{
 "cells": [
  {
   "cell_type": "code",
   "execution_count": 76,
   "metadata": {},
   "outputs": [],
   "source": [
    "import torch as tc\n",
    "from torch import optim, nn \n",
    "from torch.utils.data import DataLoader, TensorDataset, random_split \n",
    "\n",
    "from torchmetrics import Accuracy\n",
    "\n",
    "import numpy as np \n",
    "import pandas as pd \n",
    "import  matplotlib.pyplot as plt \n",
    "from sklearn.model_selection import train_test_split\n",
    "\n",
    "from tqdm import tqdm "
   ]
  },
  {
   "cell_type": "code",
   "execution_count": 77,
   "metadata": {},
   "outputs": [],
   "source": [
    "data = pd.read_csv('/home/ahmadrezabaqerzadeh/datasets/weekly-a-p/data.csv').iloc[0:20000]"
   ]
  },
  {
   "cell_type": "code",
   "execution_count": 78,
   "metadata": {},
   "outputs": [
    {
     "data": {
      "text/plain": [
       "(20000, 56)"
      ]
     },
     "execution_count": 78,
     "metadata": {},
     "output_type": "execute_result"
    }
   ],
   "source": [
    "data.shape"
   ]
  },
  {
   "cell_type": "code",
   "execution_count": 79,
   "metadata": {},
   "outputs": [
    {
     "data": {
      "text/plain": [
       "ticker         0\n",
       "date           0\n",
       "fwd_returns    0\n",
       "1              0\n",
       "2              0\n",
       "3              0\n",
       "4              0\n",
       "5              0\n",
       "6              0\n",
       "7              0\n",
       "8              0\n",
       "9              0\n",
       "10             0\n",
       "11             0\n",
       "12             0\n",
       "13             0\n",
       "14             0\n",
       "15             0\n",
       "16             0\n",
       "17             0\n",
       "18             0\n",
       "19             0\n",
       "20             0\n",
       "21             0\n",
       "22             0\n",
       "23             0\n",
       "24             0\n",
       "25             0\n",
       "26             0\n",
       "27             0\n",
       "28             0\n",
       "29             0\n",
       "30             0\n",
       "31             0\n",
       "32             0\n",
       "33             0\n",
       "34             0\n",
       "35             0\n",
       "36             0\n",
       "37             0\n",
       "38             0\n",
       "39             0\n",
       "40             0\n",
       "41             0\n",
       "42             0\n",
       "43             0\n",
       "44             0\n",
       "45             0\n",
       "46             0\n",
       "47             0\n",
       "48             0\n",
       "49             0\n",
       "50             0\n",
       "51             0\n",
       "52             0\n",
       "label          0\n",
       "dtype: int64"
      ]
     },
     "execution_count": 79,
     "metadata": {},
     "output_type": "execute_result"
    }
   ],
   "source": [
    "data.isnull().sum()"
   ]
  },
  {
   "cell_type": "code",
   "execution_count": 80,
   "metadata": {},
   "outputs": [],
   "source": [
    "data.drop(['ticker', 'date'], axis = 1, inplace = True)"
   ]
  },
  {
   "cell_type": "code",
   "execution_count": 81,
   "metadata": {},
   "outputs": [
    {
     "data": {
      "text/html": [
       "<div>\n",
       "<style scoped>\n",
       "    .dataframe tbody tr th:only-of-type {\n",
       "        vertical-align: middle;\n",
       "    }\n",
       "\n",
       "    .dataframe tbody tr th {\n",
       "        vertical-align: top;\n",
       "    }\n",
       "\n",
       "    .dataframe thead th {\n",
       "        text-align: right;\n",
       "    }\n",
       "</style>\n",
       "<table border=\"1\" class=\"dataframe\">\n",
       "  <thead>\n",
       "    <tr style=\"text-align: right;\">\n",
       "      <th></th>\n",
       "      <th>fwd_returns</th>\n",
       "      <th>1</th>\n",
       "      <th>2</th>\n",
       "      <th>3</th>\n",
       "      <th>4</th>\n",
       "      <th>5</th>\n",
       "      <th>6</th>\n",
       "      <th>7</th>\n",
       "      <th>8</th>\n",
       "      <th>9</th>\n",
       "      <th>...</th>\n",
       "      <th>44</th>\n",
       "      <th>45</th>\n",
       "      <th>46</th>\n",
       "      <th>47</th>\n",
       "      <th>48</th>\n",
       "      <th>49</th>\n",
       "      <th>50</th>\n",
       "      <th>51</th>\n",
       "      <th>52</th>\n",
       "      <th>label</th>\n",
       "    </tr>\n",
       "  </thead>\n",
       "  <tbody>\n",
       "    <tr>\n",
       "      <th>0</th>\n",
       "      <td>-0.005642</td>\n",
       "      <td>-0.003846</td>\n",
       "      <td>0.003413</td>\n",
       "      <td>-0.019071</td>\n",
       "      <td>-0.009660</td>\n",
       "      <td>0.008286</td>\n",
       "      <td>0.029636</td>\n",
       "      <td>-0.022817</td>\n",
       "      <td>0.005885</td>\n",
       "      <td>0.010706</td>\n",
       "      <td>...</td>\n",
       "      <td>0.002131</td>\n",
       "      <td>0.025218</td>\n",
       "      <td>0.019846</td>\n",
       "      <td>0.015005</td>\n",
       "      <td>0.021630</td>\n",
       "      <td>-0.021976</td>\n",
       "      <td>0.014586</td>\n",
       "      <td>0.053336</td>\n",
       "      <td>-0.011001</td>\n",
       "      <td>0</td>\n",
       "    </tr>\n",
       "    <tr>\n",
       "      <th>1</th>\n",
       "      <td>-0.010648</td>\n",
       "      <td>0.029965</td>\n",
       "      <td>0.000784</td>\n",
       "      <td>0.041012</td>\n",
       "      <td>0.009267</td>\n",
       "      <td>0.024689</td>\n",
       "      <td>0.034265</td>\n",
       "      <td>-0.034352</td>\n",
       "      <td>-0.002313</td>\n",
       "      <td>-0.084328</td>\n",
       "      <td>...</td>\n",
       "      <td>-0.013430</td>\n",
       "      <td>0.009903</td>\n",
       "      <td>0.053175</td>\n",
       "      <td>-0.058573</td>\n",
       "      <td>-0.021875</td>\n",
       "      <td>0.007345</td>\n",
       "      <td>0.031162</td>\n",
       "      <td>-0.010281</td>\n",
       "      <td>-0.036922</td>\n",
       "      <td>0</td>\n",
       "    </tr>\n",
       "    <tr>\n",
       "      <th>2</th>\n",
       "      <td>-0.010184</td>\n",
       "      <td>0.090171</td>\n",
       "      <td>-0.052591</td>\n",
       "      <td>-0.005359</td>\n",
       "      <td>0.105501</td>\n",
       "      <td>-0.027702</td>\n",
       "      <td>-0.003553</td>\n",
       "      <td>0.004392</td>\n",
       "      <td>-0.069239</td>\n",
       "      <td>-0.084230</td>\n",
       "      <td>...</td>\n",
       "      <td>0.009283</td>\n",
       "      <td>-0.103827</td>\n",
       "      <td>0.004009</td>\n",
       "      <td>-0.019974</td>\n",
       "      <td>0.007588</td>\n",
       "      <td>-0.054290</td>\n",
       "      <td>0.038561</td>\n",
       "      <td>-0.035324</td>\n",
       "      <td>-0.007138</td>\n",
       "      <td>0</td>\n",
       "    </tr>\n",
       "    <tr>\n",
       "      <th>3</th>\n",
       "      <td>-0.001361</td>\n",
       "      <td>0.044034</td>\n",
       "      <td>-0.014006</td>\n",
       "      <td>-0.017882</td>\n",
       "      <td>0.013947</td>\n",
       "      <td>0.040639</td>\n",
       "      <td>0.019231</td>\n",
       "      <td>-0.018868</td>\n",
       "      <td>-0.010057</td>\n",
       "      <td>0.005780</td>\n",
       "      <td>...</td>\n",
       "      <td>0.004367</td>\n",
       "      <td>0.000000</td>\n",
       "      <td>0.010294</td>\n",
       "      <td>-0.028571</td>\n",
       "      <td>0.070336</td>\n",
       "      <td>-0.006079</td>\n",
       "      <td>0.006116</td>\n",
       "      <td>-0.010590</td>\n",
       "      <td>-0.006015</td>\n",
       "      <td>0</td>\n",
       "    </tr>\n",
       "    <tr>\n",
       "      <th>4</th>\n",
       "      <td>-0.008553</td>\n",
       "      <td>-0.001490</td>\n",
       "      <td>0.003888</td>\n",
       "      <td>0.010375</td>\n",
       "      <td>0.112630</td>\n",
       "      <td>-0.000448</td>\n",
       "      <td>0.099114</td>\n",
       "      <td>-0.007090</td>\n",
       "      <td>-0.001587</td>\n",
       "      <td>-0.055888</td>\n",
       "      <td>...</td>\n",
       "      <td>-0.026303</td>\n",
       "      <td>-0.015056</td>\n",
       "      <td>0.007988</td>\n",
       "      <td>-0.009856</td>\n",
       "      <td>-0.041574</td>\n",
       "      <td>-0.018823</td>\n",
       "      <td>0.030419</td>\n",
       "      <td>0.003016</td>\n",
       "      <td>-0.010358</td>\n",
       "      <td>0</td>\n",
       "    </tr>\n",
       "    <tr>\n",
       "      <th>...</th>\n",
       "      <td>...</td>\n",
       "      <td>...</td>\n",
       "      <td>...</td>\n",
       "      <td>...</td>\n",
       "      <td>...</td>\n",
       "      <td>...</td>\n",
       "      <td>...</td>\n",
       "      <td>...</td>\n",
       "      <td>...</td>\n",
       "      <td>...</td>\n",
       "      <td>...</td>\n",
       "      <td>...</td>\n",
       "      <td>...</td>\n",
       "      <td>...</td>\n",
       "      <td>...</td>\n",
       "      <td>...</td>\n",
       "      <td>...</td>\n",
       "      <td>...</td>\n",
       "      <td>...</td>\n",
       "      <td>...</td>\n",
       "      <td>...</td>\n",
       "    </tr>\n",
       "    <tr>\n",
       "      <th>19995</th>\n",
       "      <td>0.000000</td>\n",
       "      <td>0.000000</td>\n",
       "      <td>0.000000</td>\n",
       "      <td>0.000000</td>\n",
       "      <td>0.000000</td>\n",
       "      <td>0.000000</td>\n",
       "      <td>0.000000</td>\n",
       "      <td>0.000000</td>\n",
       "      <td>0.000000</td>\n",
       "      <td>0.000000</td>\n",
       "      <td>...</td>\n",
       "      <td>0.000000</td>\n",
       "      <td>0.000000</td>\n",
       "      <td>0.000000</td>\n",
       "      <td>0.000000</td>\n",
       "      <td>0.000000</td>\n",
       "      <td>0.000000</td>\n",
       "      <td>0.000000</td>\n",
       "      <td>0.000000</td>\n",
       "      <td>0.000000</td>\n",
       "      <td>0</td>\n",
       "    </tr>\n",
       "    <tr>\n",
       "      <th>19996</th>\n",
       "      <td>0.000000</td>\n",
       "      <td>0.000000</td>\n",
       "      <td>0.000000</td>\n",
       "      <td>0.000000</td>\n",
       "      <td>0.000000</td>\n",
       "      <td>0.000000</td>\n",
       "      <td>0.000000</td>\n",
       "      <td>0.000000</td>\n",
       "      <td>0.000000</td>\n",
       "      <td>0.000000</td>\n",
       "      <td>...</td>\n",
       "      <td>0.000000</td>\n",
       "      <td>0.000000</td>\n",
       "      <td>0.000000</td>\n",
       "      <td>0.000000</td>\n",
       "      <td>0.000000</td>\n",
       "      <td>0.000000</td>\n",
       "      <td>0.000000</td>\n",
       "      <td>0.000000</td>\n",
       "      <td>0.000000</td>\n",
       "      <td>0</td>\n",
       "    </tr>\n",
       "    <tr>\n",
       "      <th>19997</th>\n",
       "      <td>-0.047503</td>\n",
       "      <td>0.006127</td>\n",
       "      <td>0.016189</td>\n",
       "      <td>0.016456</td>\n",
       "      <td>0.046358</td>\n",
       "      <td>0.060393</td>\n",
       "      <td>0.030391</td>\n",
       "      <td>0.035982</td>\n",
       "      <td>-0.057910</td>\n",
       "      <td>-0.034765</td>\n",
       "      <td>...</td>\n",
       "      <td>0.017266</td>\n",
       "      <td>0.034226</td>\n",
       "      <td>-0.030303</td>\n",
       "      <td>0.079439</td>\n",
       "      <td>-0.024316</td>\n",
       "      <td>0.029734</td>\n",
       "      <td>0.050987</td>\n",
       "      <td>0.206349</td>\n",
       "      <td>-0.019455</td>\n",
       "      <td>0</td>\n",
       "    </tr>\n",
       "    <tr>\n",
       "      <th>19998</th>\n",
       "      <td>0.005767</td>\n",
       "      <td>0.005477</td>\n",
       "      <td>0.065934</td>\n",
       "      <td>0.012870</td>\n",
       "      <td>0.011968</td>\n",
       "      <td>-0.009069</td>\n",
       "      <td>-0.030108</td>\n",
       "      <td>0.015808</td>\n",
       "      <td>-0.014395</td>\n",
       "      <td>0.039613</td>\n",
       "      <td>...</td>\n",
       "      <td>-0.001577</td>\n",
       "      <td>0.038777</td>\n",
       "      <td>-0.043864</td>\n",
       "      <td>0.082533</td>\n",
       "      <td>-0.026953</td>\n",
       "      <td>-0.007100</td>\n",
       "      <td>-0.025027</td>\n",
       "      <td>-0.027447</td>\n",
       "      <td>-0.107671</td>\n",
       "      <td>1</td>\n",
       "    </tr>\n",
       "    <tr>\n",
       "      <th>19999</th>\n",
       "      <td>-0.011871</td>\n",
       "      <td>0.001444</td>\n",
       "      <td>0.037533</td>\n",
       "      <td>0.001942</td>\n",
       "      <td>0.042518</td>\n",
       "      <td>-0.000919</td>\n",
       "      <td>0.023142</td>\n",
       "      <td>0.026161</td>\n",
       "      <td>-0.009561</td>\n",
       "      <td>0.008388</td>\n",
       "      <td>...</td>\n",
       "      <td>0.000739</td>\n",
       "      <td>-0.012823</td>\n",
       "      <td>-0.034038</td>\n",
       "      <td>0.049905</td>\n",
       "      <td>-0.036177</td>\n",
       "      <td>0.030886</td>\n",
       "      <td>-0.006056</td>\n",
       "      <td>0.036250</td>\n",
       "      <td>-0.000646</td>\n",
       "      <td>0</td>\n",
       "    </tr>\n",
       "  </tbody>\n",
       "</table>\n",
       "<p>20000 rows × 54 columns</p>\n",
       "</div>"
      ],
      "text/plain": [
       "       fwd_returns         1         2         3         4         5  \\\n",
       "0        -0.005642 -0.003846  0.003413 -0.019071 -0.009660  0.008286   \n",
       "1        -0.010648  0.029965  0.000784  0.041012  0.009267  0.024689   \n",
       "2        -0.010184  0.090171 -0.052591 -0.005359  0.105501 -0.027702   \n",
       "3        -0.001361  0.044034 -0.014006 -0.017882  0.013947  0.040639   \n",
       "4        -0.008553 -0.001490  0.003888  0.010375  0.112630 -0.000448   \n",
       "...            ...       ...       ...       ...       ...       ...   \n",
       "19995     0.000000  0.000000  0.000000  0.000000  0.000000  0.000000   \n",
       "19996     0.000000  0.000000  0.000000  0.000000  0.000000  0.000000   \n",
       "19997    -0.047503  0.006127  0.016189  0.016456  0.046358  0.060393   \n",
       "19998     0.005767  0.005477  0.065934  0.012870  0.011968 -0.009069   \n",
       "19999    -0.011871  0.001444  0.037533  0.001942  0.042518 -0.000919   \n",
       "\n",
       "              6         7         8         9  ...        44        45  \\\n",
       "0      0.029636 -0.022817  0.005885  0.010706  ...  0.002131  0.025218   \n",
       "1      0.034265 -0.034352 -0.002313 -0.084328  ... -0.013430  0.009903   \n",
       "2     -0.003553  0.004392 -0.069239 -0.084230  ...  0.009283 -0.103827   \n",
       "3      0.019231 -0.018868 -0.010057  0.005780  ...  0.004367  0.000000   \n",
       "4      0.099114 -0.007090 -0.001587 -0.055888  ... -0.026303 -0.015056   \n",
       "...         ...       ...       ...       ...  ...       ...       ...   \n",
       "19995  0.000000  0.000000  0.000000  0.000000  ...  0.000000  0.000000   \n",
       "19996  0.000000  0.000000  0.000000  0.000000  ...  0.000000  0.000000   \n",
       "19997  0.030391  0.035982 -0.057910 -0.034765  ...  0.017266  0.034226   \n",
       "19998 -0.030108  0.015808 -0.014395  0.039613  ... -0.001577  0.038777   \n",
       "19999  0.023142  0.026161 -0.009561  0.008388  ...  0.000739 -0.012823   \n",
       "\n",
       "             46        47        48        49        50        51        52  \\\n",
       "0      0.019846  0.015005  0.021630 -0.021976  0.014586  0.053336 -0.011001   \n",
       "1      0.053175 -0.058573 -0.021875  0.007345  0.031162 -0.010281 -0.036922   \n",
       "2      0.004009 -0.019974  0.007588 -0.054290  0.038561 -0.035324 -0.007138   \n",
       "3      0.010294 -0.028571  0.070336 -0.006079  0.006116 -0.010590 -0.006015   \n",
       "4      0.007988 -0.009856 -0.041574 -0.018823  0.030419  0.003016 -0.010358   \n",
       "...         ...       ...       ...       ...       ...       ...       ...   \n",
       "19995  0.000000  0.000000  0.000000  0.000000  0.000000  0.000000  0.000000   \n",
       "19996  0.000000  0.000000  0.000000  0.000000  0.000000  0.000000  0.000000   \n",
       "19997 -0.030303  0.079439 -0.024316  0.029734  0.050987  0.206349 -0.019455   \n",
       "19998 -0.043864  0.082533 -0.026953 -0.007100 -0.025027 -0.027447 -0.107671   \n",
       "19999 -0.034038  0.049905 -0.036177  0.030886 -0.006056  0.036250 -0.000646   \n",
       "\n",
       "       label  \n",
       "0          0  \n",
       "1          0  \n",
       "2          0  \n",
       "3          0  \n",
       "4          0  \n",
       "...      ...  \n",
       "19995      0  \n",
       "19996      0  \n",
       "19997      0  \n",
       "19998      1  \n",
       "19999      0  \n",
       "\n",
       "[20000 rows x 54 columns]"
      ]
     },
     "execution_count": 81,
     "metadata": {},
     "output_type": "execute_result"
    }
   ],
   "source": [
    "data"
   ]
  },
  {
   "cell_type": "code",
   "execution_count": 82,
   "metadata": {},
   "outputs": [],
   "source": [
    "x = data.drop('label', axis = 1)\n",
    "y = data['label']"
   ]
  },
  {
   "cell_type": "code",
   "execution_count": 83,
   "metadata": {},
   "outputs": [],
   "source": [
    "xtrain, xtest, ytrain, ytest = train_test_split(x, y, train_size = 0.7, random_state = 42)"
   ]
  },
  {
   "cell_type": "code",
   "execution_count": 84,
   "metadata": {},
   "outputs": [
    {
     "data": {
      "text/plain": [
       "((14000, 53), (6000, 53), (14000,), (6000,))"
      ]
     },
     "execution_count": 84,
     "metadata": {},
     "output_type": "execute_result"
    }
   ],
   "source": [
    "xtrain.shape, xtest.shape, ytrain.shape, ytest.shape"
   ]
  },
  {
   "cell_type": "code",
   "execution_count": 85,
   "metadata": {},
   "outputs": [],
   "source": [
    "xtest, xvalid, ytest, yvalid = train_test_split(xtest, ytest, test_size = 0.5, random_state = 42)"
   ]
  },
  {
   "cell_type": "code",
   "execution_count": 86,
   "metadata": {},
   "outputs": [
    {
     "data": {
      "text/plain": [
       "((3000, 53), (3000, 53), (3000,), (3000,))"
      ]
     },
     "execution_count": 86,
     "metadata": {},
     "output_type": "execute_result"
    }
   ],
   "source": [
    "xtest.shape, xvalid.shape, ytest.shape, yvalid.shape"
   ]
  },
  {
   "cell_type": "code",
   "execution_count": 87,
   "metadata": {},
   "outputs": [],
   "source": [
    "xtrain = tc.FloatTensor(np.array(xtrain))\n",
    "ytrain = tc.FloatTensor(np.array(ytrain))\n",
    "\n",
    "xtest = tc.FloatTensor(np.array(xtest))\n",
    "ytest = tc.FloatTensor(np.array(ytest))\n",
    "\n",
    "xvalid = tc.FloatTensor(np.array(xvalid))\n",
    "yvalid = tc.FloatTensor(np.array(yvalid))"
   ]
  },
  {
   "cell_type": "code",
   "execution_count": 88,
   "metadata": {},
   "outputs": [],
   "source": [
    "mean = xtrain.mean(dim = 0)\n",
    "std = xtrain.std(dim = 0)"
   ]
  },
  {
   "cell_type": "code",
   "execution_count": 89,
   "metadata": {},
   "outputs": [],
   "source": [
    "xtrain = (xtrain - mean)/std \n",
    "xtest = (xtest - mean)/std \n",
    "xvalid = (xvalid - mean)/std"
   ]
  },
  {
   "cell_type": "code",
   "execution_count": 90,
   "metadata": {},
   "outputs": [],
   "source": [
    "train_dataset = TensorDataset(xtrain, ytrain)\n",
    "valid_dataset = TensorDataset(xvalid, yvalid)"
   ]
  },
  {
   "cell_type": "code",
   "execution_count": 91,
   "metadata": {},
   "outputs": [],
   "source": [
    "train_loader = DataLoader(train_dataset, batch_size = 256, shuffle = True)\n",
    "valid_loader = DataLoader(valid_dataset, batch_size = 512, shuffle = False)\n"
   ]
  },
  {
   "cell_type": "code",
   "execution_count": 92,
   "metadata": {},
   "outputs": [],
   "source": [
    "class RNNModel(nn.Module):\n",
    "    \n",
    "    def __init__(self, input_size, hidden_size, layer, bidirectional):\n",
    "        super().__init__()\n",
    "        \n",
    "        self.rnn = nn.RNN(input_size, hidden_size = hidden_size, num_layers = layer, bidirectional = bidirectional)\n",
    "    \n",
    "        self.fc = nn.LazyLinear(1)\n",
    "        \n",
    "    def forward(self, x):\n",
    "        \n",
    "        y, hidden_state = self.rnn(x)\n",
    "        \n",
    "        y = self.fc(y)\n",
    "        \n",
    "        return y"
   ]
  },
  {
   "cell_type": "code",
   "execution_count": 93,
   "metadata": {},
   "outputs": [
    {
     "name": "stderr",
     "output_type": "stream",
     "text": [
      "/home/ahmadrezabaqerzadeh/.local/lib/python3.10/site-packages/torch/nn/modules/lazy.py:180: UserWarning: Lazy modules are a new feature under heavy development so changes to the API or functionality can happen at any moment.\n",
      "  warnings.warn('Lazy modules are a new feature under heavy development '\n"
     ]
    }
   ],
   "source": [
    "model = RNNModel(53, 64, 1, False)"
   ]
  },
  {
   "cell_type": "code",
   "execution_count": 94,
   "metadata": {},
   "outputs": [],
   "source": [
    "x, y = next(iter(train_loader))"
   ]
  },
  {
   "cell_type": "code",
   "execution_count": 95,
   "metadata": {},
   "outputs": [
    {
     "data": {
      "text/plain": [
       "torch.Size([256, 1])"
      ]
     },
     "execution_count": 95,
     "metadata": {},
     "output_type": "execute_result"
    }
   ],
   "source": [
    "model(x).shape"
   ]
  },
  {
   "cell_type": "code",
   "execution_count": 96,
   "metadata": {},
   "outputs": [],
   "source": [
    "device = 'cuda' if tc.cuda.is_available() else 'cpu'"
   ]
  },
  {
   "cell_type": "code",
   "execution_count": 97,
   "metadata": {},
   "outputs": [],
   "source": [
    "class AverageMeter(object):\n",
    "    \"\"\"Computes and stores the average and current value\"\"\"\n",
    "    def __init__(self):\n",
    "        self.reset()\n",
    "\n",
    "    def reset(self):\n",
    "        self.val = 0\n",
    "        self.avg = 0\n",
    "        self.sum = 0\n",
    "        self.count = 0\n",
    "\n",
    "    def update(self, val, n=1):\n",
    "        self.val = val\n",
    "        self.sum += val * n\n",
    "        self.count += n\n",
    "        self.avg = self.sum / self.count"
   ]
  },
  {
   "cell_type": "code",
   "execution_count": 107,
   "metadata": {},
   "outputs": [],
   "source": [
    "def train_one_epoch(model, train_loader, loss_func, optimizer, epoch):\n",
    "    \n",
    "    train_loss = AverageMeter()\n",
    "    train_acc = Accuracy(task = 'binary').to(device)\n",
    "    \n",
    "    with tqdm(train_loader, unit = 'batch') as tepoch:\n",
    "        \n",
    "        if epoch is not None:\n",
    "            tepoch.set_description(f'Epoch={epoch}')\n",
    "        \n",
    "        for x, y in tepoch:\n",
    "            \n",
    "            x = x.to(device)\n",
    "            y = y.to(device)\n",
    "            \n",
    "            yp = model(x)\n",
    "            loss = loss_func(yp.squeeze(), y)\n",
    "            loss.backward()\n",
    "            optimizer.step()\n",
    "            optimizer.zero_grad()\n",
    "            \n",
    "            train_loss.update(loss.item())\n",
    "            train_acc(yp.squeeze(), y)\n",
    "            \n",
    "            tepoch.set_postfix(loss = train_loss.avg, accuracy = train_acc.compute().item() * 100)\n",
    "            \n",
    "    return model, train_loss.avg, train_acc.compute().item()"
   ]
  },
  {
   "cell_type": "code",
   "execution_count": 99,
   "metadata": {},
   "outputs": [],
   "source": [
    "def validation(model, valid_loaedr, loss_func):\n",
    "    model.eval()\n",
    "\n",
    "    valid_loss=AverageMeter()\n",
    "    valid_acc=Accuracy(task='binary').to(device)\n",
    "\n",
    "    for x, y in valid_loaedr:\n",
    "\n",
    "        x=x.to(device)\n",
    "        y=y.to(device)\n",
    "\n",
    "        yp=model(x)\n",
    "        loss=loss_func(yp.squeeze(), y)\n",
    "\n",
    "        valid_loss.update(loss.item())\n",
    "        valid_acc(yp.squeeze(), y)\n",
    "\n",
    "    print(f'valid loss={valid_loss.avg:.4}, accuracy={valid_acc.compute() * 100 :.4}')\n",
    "    print()\n",
    "\n",
    "    return valid_loss.avg, valid_acc.compute().item()"
   ]
  },
  {
   "cell_type": "code",
   "execution_count": 100,
   "metadata": {},
   "outputs": [],
   "source": [
    "model = model.to(device)"
   ]
  },
  {
   "cell_type": "code",
   "execution_count": 265,
   "metadata": {},
   "outputs": [],
   "source": [
    "optimizer = optim.Adam(model.parameters(), lr = 0.01, betas = [0.9, 0.99])\n",
    "loss_func = nn.BCEWithLogitsLoss()"
   ]
  },
  {
   "cell_type": "code",
   "execution_count": 266,
   "metadata": {},
   "outputs": [
    {
     "name": "stderr",
     "output_type": "stream",
     "text": [
      "100%|██████████| 2918/2918 [01:00<00:00, 48.16batch/s, accuracy=tensor(97.6704), loss=0.0548]\n"
     ]
    },
    {
     "data": {
      "text/plain": [
       "(RNNModel(\n",
       "   (rnn): RNN(53, 64)\n",
       "   (fc): Linear(in_features=64, out_features=1, bias=True)\n",
       " ),\n",
       " 0.05483221114433426,\n",
       " tensor(0.9767))"
      ]
     },
     "execution_count": 266,
     "metadata": {},
     "output_type": "execute_result"
    }
   ],
   "source": [
    "train_one_epoch(model, train_loader, loss_func, optimizer, 1)"
   ]
  },
  {
   "cell_type": "code",
   "execution_count": 132,
   "metadata": {},
   "outputs": [],
   "source": [
    "model = RNNModel(53, 128, 2, False).to(device)"
   ]
  },
  {
   "cell_type": "code",
   "execution_count": 133,
   "metadata": {},
   "outputs": [],
   "source": [
    "optimizer = optim.Adam(model.parameters(), lr = 0.002, betas = [0.9, 0.99])\n",
    "loss_func = nn.BCEWithLogitsLoss()"
   ]
  },
  {
   "cell_type": "code",
   "execution_count": 134,
   "metadata": {},
   "outputs": [],
   "source": [
    "loss_train_hist, acc_train_hist = [], []\n",
    "loss_valid_hist, acc_valid_hist = [], []\n",
    "\n",
    "best_loss = tc.inf \n",
    "best_model = [0]"
   ]
  },
  {
   "cell_type": "code",
   "execution_count": 135,
   "metadata": {},
   "outputs": [
    {
     "name": "stderr",
     "output_type": "stream",
     "text": [
      "Epoch=0: 100%|██████████| 55/55 [00:02<00:00, 26.05batch/s, accuracy=82.4, loss=0.392]\n"
     ]
    },
    {
     "name": "stdout",
     "output_type": "stream",
     "text": [
      "valid loss=0.2027, accuracy=92.5\n",
      "\n",
      "model saved!\n"
     ]
    },
    {
     "name": "stderr",
     "output_type": "stream",
     "text": [
      "Epoch=1: 100%|██████████| 55/55 [00:02<00:00, 22.45batch/s, accuracy=93, loss=0.174]  \n"
     ]
    },
    {
     "name": "stdout",
     "output_type": "stream",
     "text": [
      "valid loss=0.1563, accuracy=93.7\n",
      "\n",
      "model saved!\n"
     ]
    },
    {
     "name": "stderr",
     "output_type": "stream",
     "text": [
      "Epoch=2: 100%|██████████| 55/55 [00:02<00:00, 23.62batch/s, accuracy=94.8, loss=0.133]\n"
     ]
    },
    {
     "name": "stdout",
     "output_type": "stream",
     "text": [
      "valid loss=0.1651, accuracy=93.57\n",
      "\n"
     ]
    },
    {
     "name": "stderr",
     "output_type": "stream",
     "text": [
      "Epoch=3: 100%|██████████| 55/55 [00:02<00:00, 25.09batch/s, accuracy=95.7, loss=0.112]\n"
     ]
    },
    {
     "name": "stdout",
     "output_type": "stream",
     "text": [
      "valid loss=0.118, accuracy=95.63\n",
      "\n",
      "model saved!\n"
     ]
    },
    {
     "name": "stderr",
     "output_type": "stream",
     "text": [
      "Epoch=4: 100%|██████████| 55/55 [00:02<00:00, 26.28batch/s, accuracy=96.3, loss=0.0962]\n"
     ]
    },
    {
     "name": "stdout",
     "output_type": "stream",
     "text": [
      "valid loss=0.1551, accuracy=94.33\n",
      "\n"
     ]
    },
    {
     "name": "stderr",
     "output_type": "stream",
     "text": [
      "Epoch=5: 100%|██████████| 55/55 [00:02<00:00, 25.67batch/s, accuracy=96.4, loss=0.0935]\n"
     ]
    },
    {
     "name": "stdout",
     "output_type": "stream",
     "text": [
      "valid loss=0.09299, accuracy=96.43\n",
      "\n",
      "model saved!\n"
     ]
    },
    {
     "name": "stderr",
     "output_type": "stream",
     "text": [
      "Epoch=6: 100%|██████████| 55/55 [00:02<00:00, 24.41batch/s, accuracy=96.9, loss=0.0838]\n"
     ]
    },
    {
     "name": "stdout",
     "output_type": "stream",
     "text": [
      "valid loss=0.1057, accuracy=96.3\n",
      "\n"
     ]
    },
    {
     "name": "stderr",
     "output_type": "stream",
     "text": [
      "Epoch=7: 100%|██████████| 55/55 [00:02<00:00, 24.17batch/s, accuracy=96.8, loss=0.0852]\n"
     ]
    },
    {
     "name": "stdout",
     "output_type": "stream",
     "text": [
      "valid loss=0.09779, accuracy=96.3\n",
      "\n"
     ]
    },
    {
     "name": "stderr",
     "output_type": "stream",
     "text": [
      "Epoch=8: 100%|██████████| 55/55 [00:02<00:00, 23.53batch/s, accuracy=97, loss=0.0776]  \n"
     ]
    },
    {
     "name": "stdout",
     "output_type": "stream",
     "text": [
      "valid loss=0.07986, accuracy=96.87\n",
      "\n",
      "model saved!\n"
     ]
    },
    {
     "name": "stderr",
     "output_type": "stream",
     "text": [
      "Epoch=9: 100%|██████████| 55/55 [00:02<00:00, 25.78batch/s, accuracy=97.7, loss=0.0632]\n"
     ]
    },
    {
     "name": "stdout",
     "output_type": "stream",
     "text": [
      "valid loss=0.07311, accuracy=97.17\n",
      "\n",
      "model saved!\n"
     ]
    },
    {
     "name": "stderr",
     "output_type": "stream",
     "text": [
      "Epoch=10: 100%|██████████| 55/55 [00:01<00:00, 30.24batch/s, accuracy=97.5, loss=0.0652]\n"
     ]
    },
    {
     "name": "stdout",
     "output_type": "stream",
     "text": [
      "valid loss=0.07221, accuracy=97.07\n",
      "\n",
      "model saved!\n"
     ]
    },
    {
     "name": "stderr",
     "output_type": "stream",
     "text": [
      "Epoch=11: 100%|██████████| 55/55 [00:01<00:00, 29.34batch/s, accuracy=97.3, loss=0.0718]\n"
     ]
    },
    {
     "name": "stdout",
     "output_type": "stream",
     "text": [
      "valid loss=0.08308, accuracy=96.97\n",
      "\n"
     ]
    },
    {
     "name": "stderr",
     "output_type": "stream",
     "text": [
      "Epoch=12: 100%|██████████| 55/55 [00:02<00:00, 26.38batch/s, accuracy=98, loss=0.0536]  \n"
     ]
    },
    {
     "name": "stdout",
     "output_type": "stream",
     "text": [
      "valid loss=0.0563, accuracy=97.9\n",
      "\n",
      "model saved!\n"
     ]
    },
    {
     "name": "stderr",
     "output_type": "stream",
     "text": [
      "Epoch=13: 100%|██████████| 55/55 [00:02<00:00, 24.95batch/s, accuracy=97.9, loss=0.0576]\n"
     ]
    },
    {
     "name": "stdout",
     "output_type": "stream",
     "text": [
      "valid loss=0.06625, accuracy=97.4\n",
      "\n"
     ]
    },
    {
     "name": "stderr",
     "output_type": "stream",
     "text": [
      "Epoch=14: 100%|██████████| 55/55 [00:02<00:00, 24.45batch/s, accuracy=98, loss=0.0528]  \n"
     ]
    },
    {
     "name": "stdout",
     "output_type": "stream",
     "text": [
      "valid loss=0.05505, accuracy=97.73\n",
      "\n",
      "model saved!\n"
     ]
    },
    {
     "name": "stderr",
     "output_type": "stream",
     "text": [
      "Epoch=15: 100%|██████████| 55/55 [00:02<00:00, 25.17batch/s, accuracy=98.4, loss=0.0429]\n"
     ]
    },
    {
     "name": "stdout",
     "output_type": "stream",
     "text": [
      "valid loss=0.06152, accuracy=97.8\n",
      "\n"
     ]
    },
    {
     "name": "stderr",
     "output_type": "stream",
     "text": [
      "Epoch=16: 100%|██████████| 55/55 [00:02<00:00, 24.14batch/s, accuracy=98.3, loss=0.0494]\n"
     ]
    },
    {
     "name": "stdout",
     "output_type": "stream",
     "text": [
      "valid loss=0.0702, accuracy=97.6\n",
      "\n"
     ]
    },
    {
     "name": "stderr",
     "output_type": "stream",
     "text": [
      "Epoch=17: 100%|██████████| 55/55 [00:02<00:00, 25.19batch/s, accuracy=98.2, loss=0.0493]\n"
     ]
    },
    {
     "name": "stdout",
     "output_type": "stream",
     "text": [
      "valid loss=0.07482, accuracy=97.33\n",
      "\n"
     ]
    },
    {
     "name": "stderr",
     "output_type": "stream",
     "text": [
      "Epoch=18: 100%|██████████| 55/55 [00:02<00:00, 24.32batch/s, accuracy=98.2, loss=0.0453]\n"
     ]
    },
    {
     "name": "stdout",
     "output_type": "stream",
     "text": [
      "valid loss=0.0728, accuracy=97.27\n",
      "\n"
     ]
    },
    {
     "name": "stderr",
     "output_type": "stream",
     "text": [
      "Epoch=19: 100%|██████████| 55/55 [00:02<00:00, 25.38batch/s, accuracy=98.4, loss=0.0433]\n"
     ]
    },
    {
     "name": "stdout",
     "output_type": "stream",
     "text": [
      "valid loss=0.05234, accuracy=98.1\n",
      "\n",
      "model saved!\n"
     ]
    },
    {
     "name": "stderr",
     "output_type": "stream",
     "text": [
      "Epoch=20: 100%|██████████| 55/55 [00:02<00:00, 24.55batch/s, accuracy=98.6, loss=0.0376]\n"
     ]
    },
    {
     "name": "stdout",
     "output_type": "stream",
     "text": [
      "valid loss=0.05344, accuracy=98.17\n",
      "\n"
     ]
    },
    {
     "name": "stderr",
     "output_type": "stream",
     "text": [
      "Epoch=21: 100%|██████████| 55/55 [00:02<00:00, 24.94batch/s, accuracy=98.7, loss=0.0352]\n"
     ]
    },
    {
     "name": "stdout",
     "output_type": "stream",
     "text": [
      "valid loss=0.04424, accuracy=98.47\n",
      "\n",
      "model saved!\n"
     ]
    },
    {
     "name": "stderr",
     "output_type": "stream",
     "text": [
      "Epoch=22: 100%|██████████| 55/55 [00:02<00:00, 25.03batch/s, accuracy=98.8, loss=0.0333]\n"
     ]
    },
    {
     "name": "stdout",
     "output_type": "stream",
     "text": [
      "valid loss=0.04737, accuracy=98.17\n",
      "\n"
     ]
    },
    {
     "name": "stderr",
     "output_type": "stream",
     "text": [
      "Epoch=23: 100%|██████████| 55/55 [00:02<00:00, 25.60batch/s, accuracy=98.7, loss=0.0371]\n"
     ]
    },
    {
     "name": "stdout",
     "output_type": "stream",
     "text": [
      "valid loss=0.03766, accuracy=98.33\n",
      "\n",
      "model saved!\n"
     ]
    },
    {
     "name": "stderr",
     "output_type": "stream",
     "text": [
      "Epoch=24: 100%|██████████| 55/55 [00:02<00:00, 25.35batch/s, accuracy=98.8, loss=0.0317]\n"
     ]
    },
    {
     "name": "stdout",
     "output_type": "stream",
     "text": [
      "valid loss=0.05712, accuracy=98.07\n",
      "\n"
     ]
    }
   ],
   "source": [
    "N = 25\n",
    "for i in range(N):\n",
    "\n",
    "  model, train_loss, train_acc = train_one_epoch(model, train_loader, loss_func, optimizer, i)\n",
    "  valid_loss, valid_acc = validation(model,valid_loader,loss_func)\n",
    "\n",
    "  acc_train_hist.append(train_acc)\n",
    "  loss_train_hist.append(train_loss)\n",
    "\n",
    "  acc_valid_hist.append(valid_acc)\n",
    "  loss_valid_hist.append(valid_loss)\n",
    "\n",
    "  if valid_loss<best_loss:\n",
    "    best_loss = valid_loss\n",
    "    best_model[0] == model\n",
    "    print('model saved!')"
   ]
  },
  {
   "cell_type": "code",
   "execution_count": 136,
   "metadata": {},
   "outputs": [
    {
     "data": {
      "image/png": "[encoded data removed]",
      "text/plain": [
       "<Figure size 640x480 with 1 Axes>"
      ]
     },
     "metadata": {},
     "output_type": "display_data"
    }
   ],
   "source": [
    "plt.plot(range(N), loss_train_hist, label='train loss')\n",
    "plt.plot(range(N), loss_valid_hist, label='valid loss')\n",
    "plt.xlabel('Epoch')\n",
    "plt.ylabel('Loss')\n",
    "#plt.yticks(np.arange(0,1,0.1))\n",
    "plt.legend()\n",
    "plt.show()"
   ]
  },
  {
   "cell_type": "code",
   "execution_count": 137,
   "metadata": {},
   "outputs": [
    {
     "data": {
      "image/png": "[encoded data removed]",
      "text/plain": [
       "<Figure size 640x480 with 1 Axes>"
      ]
     },
     "metadata": {},
     "output_type": "display_data"
    }
   ],
   "source": [
    "plt.plot(range(N), acc_train_hist, label='train accuracy')\n",
    "plt.plot(range(N), acc_valid_hist, label='valid accuracy')\n",
    "plt.xlabel('Epoch')\n",
    "plt.ylabel('Accuracy')\n",
    "#plt.yticks(np.arange(0,1,0.1))\n",
    "plt.legend()\n",
    "plt.show()"
   ]
  },
  {
   "cell_type": "code",
   "execution_count": null,
   "metadata": {},
   "outputs": [],
   "source": []
  }
 ],
 "metadata": {
  "kernelspec": {
   "display_name": "Python 3",
   "language": "python",
   "name": "python3"
  },
  "language_info": {
   "codemirror_mode": {
    "name": "ipython",
    "version": 3
   },
   "file_extension": ".py",
   "mimetype": "text/x-python",
   "name": "python",
   "nbconvert_exporter": "python",
   "pygments_lexer": "ipython3",
   "version": "3.10.9"
  },
  "orig_nbformat": 4,
  "vscode": {
   "interpreter": {
    "hash": "e7370f93d1d0cde622a1f8e1c04877d8463912d04d973331ad4851f04de6915a"
   }
  }
 },
 "nbformat": 4,
 "nbformat_minor": 2
}
