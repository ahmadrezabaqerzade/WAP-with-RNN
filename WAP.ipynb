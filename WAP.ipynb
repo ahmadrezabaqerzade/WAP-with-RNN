{
 "cells": [
  {
   "cell_type": "code",
   "execution_count": 1,
   "metadata": {},
   "outputs": [
    {
     "name": "stderr",
     "output_type": "stream",
     "text": [
      "/home/ahmadrezabaqerzadeh/.local/lib/python3.10/site-packages/tqdm/auto.py:22: TqdmWarning: IProgress not found. Please update jupyter and ipywidgets. See https://ipywidgets.readthedocs.io/en/stable/user_install.html\n",
      "  from .autonotebook import tqdm as notebook_tqdm\n"
     ]
    }
   ],
   "source": [
    "import torch as tc\n",
    "from torch import optim, nn \n",
    "from torch.utils.data import DataLoader, TensorDataset, random_split \n",
    "\n",
    "from torchmetrics import Accuracy\n",
    "\n",
    "import numpy as np \n",
    "import pandas as pd \n",
    "import  matplotlib.pyplot as plt \n",
    "from sklearn.model_selection import train_test_split\n",
    "\n",
    "from tqdm import tqdm "
   ]
  },
  {
   "cell_type": "code",
   "execution_count": 2,
   "metadata": {},
   "outputs": [],
   "source": [
    "data = pd.read_csv('/home/ahmadrezabaqerzadeh/datasets/weekly-a-p/data.csv').iloc[0:40000]"
   ]
  },
  {
   "cell_type": "code",
   "execution_count": 3,
   "metadata": {},
   "outputs": [
    {
     "data": {
      "text/plain": [
       "(40000, 56)"
      ]
     },
     "execution_count": 3,
     "metadata": {},
     "output_type": "execute_result"
    }
   ],
   "source": [
    "data.shape"
   ]
  },
  {
   "cell_type": "code",
   "execution_count": 4,
   "metadata": {},
   "outputs": [
    {
     "data": {
      "text/plain": [
       "ticker         0\n",
       "date           0\n",
       "fwd_returns    0\n",
       "1              0\n",
       "2              0\n",
       "3              0\n",
       "4              0\n",
       "5              0\n",
       "6              0\n",
       "7              0\n",
       "8              0\n",
       "9              0\n",
       "10             0\n",
       "11             0\n",
       "12             0\n",
       "13             0\n",
       "14             0\n",
       "15             0\n",
       "16             0\n",
       "17             0\n",
       "18             0\n",
       "19             0\n",
       "20             0\n",
       "21             0\n",
       "22             0\n",
       "23             0\n",
       "24             0\n",
       "25             0\n",
       "26             0\n",
       "27             0\n",
       "28             0\n",
       "29             0\n",
       "30             0\n",
       "31             0\n",
       "32             0\n",
       "33             0\n",
       "34             0\n",
       "35             0\n",
       "36             0\n",
       "37             0\n",
       "38             0\n",
       "39             0\n",
       "40             0\n",
       "41             0\n",
       "42             0\n",
       "43             0\n",
       "44             0\n",
       "45             0\n",
       "46             0\n",
       "47             0\n",
       "48             0\n",
       "49             0\n",
       "50             0\n",
       "51             0\n",
       "52             0\n",
       "label          0\n",
       "dtype: int64"
      ]
     },
     "execution_count": 4,
     "metadata": {},
     "output_type": "execute_result"
    }
   ],
   "source": [
    "data.isnull().sum()"
   ]
  },
  {
   "cell_type": "code",
   "execution_count": 5,
   "metadata": {},
   "outputs": [],
   "source": [
    "data.drop(['ticker', 'date'], axis = 1, inplace = True)"
   ]
  },
  {
   "cell_type": "code",
   "execution_count": 6,
   "metadata": {},
   "outputs": [
    {
     "data": {
      "text/html": [
       "<div>\n",
       "<style scoped>\n",
       "    .dataframe tbody tr th:only-of-type {\n",
       "        vertical-align: middle;\n",
       "    }\n",
       "\n",
       "    .dataframe tbody tr th {\n",
       "        vertical-align: top;\n",
       "    }\n",
       "\n",
       "    .dataframe thead th {\n",
       "        text-align: right;\n",
       "    }\n",
       "</style>\n",
       "<table border=\"1\" class=\"dataframe\">\n",
       "  <thead>\n",
       "    <tr style=\"text-align: right;\">\n",
       "      <th></th>\n",
       "      <th>fwd_returns</th>\n",
       "      <th>1</th>\n",
       "      <th>2</th>\n",
       "      <th>3</th>\n",
       "      <th>4</th>\n",
       "      <th>5</th>\n",
       "      <th>6</th>\n",
       "      <th>7</th>\n",
       "      <th>8</th>\n",
       "      <th>9</th>\n",
       "      <th>...</th>\n",
       "      <th>44</th>\n",
       "      <th>45</th>\n",
       "      <th>46</th>\n",
       "      <th>47</th>\n",
       "      <th>48</th>\n",
       "      <th>49</th>\n",
       "      <th>50</th>\n",
       "      <th>51</th>\n",
       "      <th>52</th>\n",
       "      <th>label</th>\n",
       "    </tr>\n",
       "  </thead>\n",
       "  <tbody>\n",
       "    <tr>\n",
       "      <th>0</th>\n",
       "      <td>-0.005642</td>\n",
       "      <td>-0.003846</td>\n",
       "      <td>0.003413</td>\n",
       "      <td>-0.019071</td>\n",
       "      <td>-0.009660</td>\n",
       "      <td>0.008286</td>\n",
       "      <td>0.029636</td>\n",
       "      <td>-0.022817</td>\n",
       "      <td>0.005885</td>\n",
       "      <td>0.010706</td>\n",
       "      <td>...</td>\n",
       "      <td>0.002131</td>\n",
       "      <td>0.025218</td>\n",
       "      <td>0.019846</td>\n",
       "      <td>0.015005</td>\n",
       "      <td>0.021630</td>\n",
       "      <td>-0.021976</td>\n",
       "      <td>0.014586</td>\n",
       "      <td>0.053336</td>\n",
       "      <td>-0.011001</td>\n",
       "      <td>0</td>\n",
       "    </tr>\n",
       "    <tr>\n",
       "      <th>1</th>\n",
       "      <td>-0.010648</td>\n",
       "      <td>0.029965</td>\n",
       "      <td>0.000784</td>\n",
       "      <td>0.041012</td>\n",
       "      <td>0.009267</td>\n",
       "      <td>0.024689</td>\n",
       "      <td>0.034265</td>\n",
       "      <td>-0.034352</td>\n",
       "      <td>-0.002313</td>\n",
       "      <td>-0.084328</td>\n",
       "      <td>...</td>\n",
       "      <td>-0.013430</td>\n",
       "      <td>0.009903</td>\n",
       "      <td>0.053175</td>\n",
       "      <td>-0.058573</td>\n",
       "      <td>-0.021875</td>\n",
       "      <td>0.007345</td>\n",
       "      <td>0.031162</td>\n",
       "      <td>-0.010281</td>\n",
       "      <td>-0.036922</td>\n",
       "      <td>0</td>\n",
       "    </tr>\n",
       "    <tr>\n",
       "      <th>2</th>\n",
       "      <td>-0.010184</td>\n",
       "      <td>0.090171</td>\n",
       "      <td>-0.052591</td>\n",
       "      <td>-0.005359</td>\n",
       "      <td>0.105501</td>\n",
       "      <td>-0.027702</td>\n",
       "      <td>-0.003553</td>\n",
       "      <td>0.004392</td>\n",
       "      <td>-0.069239</td>\n",
       "      <td>-0.084230</td>\n",
       "      <td>...</td>\n",
       "      <td>0.009283</td>\n",
       "      <td>-0.103827</td>\n",
       "      <td>0.004009</td>\n",
       "      <td>-0.019974</td>\n",
       "      <td>0.007588</td>\n",
       "      <td>-0.054290</td>\n",
       "      <td>0.038561</td>\n",
       "      <td>-0.035324</td>\n",
       "      <td>-0.007138</td>\n",
       "      <td>0</td>\n",
       "    </tr>\n",
       "    <tr>\n",
       "      <th>3</th>\n",
       "      <td>-0.001361</td>\n",
       "      <td>0.044034</td>\n",
       "      <td>-0.014006</td>\n",
       "      <td>-0.017882</td>\n",
       "      <td>0.013947</td>\n",
       "      <td>0.040639</td>\n",
       "      <td>0.019231</td>\n",
       "      <td>-0.018868</td>\n",
       "      <td>-0.010057</td>\n",
       "      <td>0.005780</td>\n",
       "      <td>...</td>\n",
       "      <td>0.004367</td>\n",
       "      <td>0.000000</td>\n",
       "      <td>0.010294</td>\n",
       "      <td>-0.028571</td>\n",
       "      <td>0.070336</td>\n",
       "      <td>-0.006079</td>\n",
       "      <td>0.006116</td>\n",
       "      <td>-0.010590</td>\n",
       "      <td>-0.006015</td>\n",
       "      <td>0</td>\n",
       "    </tr>\n",
       "    <tr>\n",
       "      <th>4</th>\n",
       "      <td>-0.008553</td>\n",
       "      <td>-0.001490</td>\n",
       "      <td>0.003888</td>\n",
       "      <td>0.010375</td>\n",
       "      <td>0.112630</td>\n",
       "      <td>-0.000448</td>\n",
       "      <td>0.099114</td>\n",
       "      <td>-0.007090</td>\n",
       "      <td>-0.001587</td>\n",
       "      <td>-0.055888</td>\n",
       "      <td>...</td>\n",
       "      <td>-0.026303</td>\n",
       "      <td>-0.015056</td>\n",
       "      <td>0.007988</td>\n",
       "      <td>-0.009856</td>\n",
       "      <td>-0.041574</td>\n",
       "      <td>-0.018823</td>\n",
       "      <td>0.030419</td>\n",
       "      <td>0.003016</td>\n",
       "      <td>-0.010358</td>\n",
       "      <td>0</td>\n",
       "    </tr>\n",
       "    <tr>\n",
       "      <th>...</th>\n",
       "      <td>...</td>\n",
       "      <td>...</td>\n",
       "      <td>...</td>\n",
       "      <td>...</td>\n",
       "      <td>...</td>\n",
       "      <td>...</td>\n",
       "      <td>...</td>\n",
       "      <td>...</td>\n",
       "      <td>...</td>\n",
       "      <td>...</td>\n",
       "      <td>...</td>\n",
       "      <td>...</td>\n",
       "      <td>...</td>\n",
       "      <td>...</td>\n",
       "      <td>...</td>\n",
       "      <td>...</td>\n",
       "      <td>...</td>\n",
       "      <td>...</td>\n",
       "      <td>...</td>\n",
       "      <td>...</td>\n",
       "      <td>...</td>\n",
       "    </tr>\n",
       "    <tr>\n",
       "      <th>39995</th>\n",
       "      <td>0.025394</td>\n",
       "      <td>-0.013230</td>\n",
       "      <td>-0.020016</td>\n",
       "      <td>-0.028500</td>\n",
       "      <td>0.007368</td>\n",
       "      <td>-0.062442</td>\n",
       "      <td>-0.007455</td>\n",
       "      <td>-0.013103</td>\n",
       "      <td>0.014049</td>\n",
       "      <td>-0.018455</td>\n",
       "      <td>...</td>\n",
       "      <td>-0.024192</td>\n",
       "      <td>-0.048027</td>\n",
       "      <td>-0.023723</td>\n",
       "      <td>0.028147</td>\n",
       "      <td>0.001709</td>\n",
       "      <td>0.011844</td>\n",
       "      <td>-0.002312</td>\n",
       "      <td>-0.045661</td>\n",
       "      <td>0.024295</td>\n",
       "      <td>1</td>\n",
       "    </tr>\n",
       "    <tr>\n",
       "      <th>39996</th>\n",
       "      <td>-0.047619</td>\n",
       "      <td>-0.060703</td>\n",
       "      <td>0.064626</td>\n",
       "      <td>-0.114458</td>\n",
       "      <td>0.044025</td>\n",
       "      <td>0.012739</td>\n",
       "      <td>-0.059880</td>\n",
       "      <td>0.077419</td>\n",
       "      <td>0.000000</td>\n",
       "      <td>0.065292</td>\n",
       "      <td>...</td>\n",
       "      <td>0.000000</td>\n",
       "      <td>-0.084270</td>\n",
       "      <td>-0.105528</td>\n",
       "      <td>-0.095455</td>\n",
       "      <td>-0.090909</td>\n",
       "      <td>0.000000</td>\n",
       "      <td>0.085202</td>\n",
       "      <td>0.179894</td>\n",
       "      <td>0.000000</td>\n",
       "      <td>0</td>\n",
       "    </tr>\n",
       "    <tr>\n",
       "      <th>39997</th>\n",
       "      <td>0.000000</td>\n",
       "      <td>0.000000</td>\n",
       "      <td>0.000000</td>\n",
       "      <td>0.000000</td>\n",
       "      <td>0.000000</td>\n",
       "      <td>0.000000</td>\n",
       "      <td>0.000000</td>\n",
       "      <td>0.000000</td>\n",
       "      <td>0.000000</td>\n",
       "      <td>0.000000</td>\n",
       "      <td>...</td>\n",
       "      <td>0.000000</td>\n",
       "      <td>0.000000</td>\n",
       "      <td>0.000000</td>\n",
       "      <td>0.000000</td>\n",
       "      <td>0.000000</td>\n",
       "      <td>0.000000</td>\n",
       "      <td>0.000000</td>\n",
       "      <td>0.000000</td>\n",
       "      <td>0.000000</td>\n",
       "      <td>0</td>\n",
       "    </tr>\n",
       "    <tr>\n",
       "      <th>39998</th>\n",
       "      <td>0.002283</td>\n",
       "      <td>0.032532</td>\n",
       "      <td>-0.002352</td>\n",
       "      <td>-0.028780</td>\n",
       "      <td>0.034988</td>\n",
       "      <td>-0.027435</td>\n",
       "      <td>-0.071338</td>\n",
       "      <td>0.014649</td>\n",
       "      <td>0.015311</td>\n",
       "      <td>0.013298</td>\n",
       "      <td>...</td>\n",
       "      <td>0.003326</td>\n",
       "      <td>-0.020098</td>\n",
       "      <td>0.009874</td>\n",
       "      <td>-0.008700</td>\n",
       "      <td>0.015461</td>\n",
       "      <td>0.001106</td>\n",
       "      <td>0.004442</td>\n",
       "      <td>-0.001109</td>\n",
       "      <td>0.034423</td>\n",
       "      <td>1</td>\n",
       "    </tr>\n",
       "    <tr>\n",
       "      <th>39999</th>\n",
       "      <td>0.000000</td>\n",
       "      <td>0.000000</td>\n",
       "      <td>0.000000</td>\n",
       "      <td>0.000000</td>\n",
       "      <td>0.000000</td>\n",
       "      <td>0.000000</td>\n",
       "      <td>0.000000</td>\n",
       "      <td>0.000000</td>\n",
       "      <td>0.000000</td>\n",
       "      <td>0.000000</td>\n",
       "      <td>...</td>\n",
       "      <td>0.027837</td>\n",
       "      <td>0.000000</td>\n",
       "      <td>-0.039095</td>\n",
       "      <td>-0.028000</td>\n",
       "      <td>-0.001996</td>\n",
       "      <td>0.043750</td>\n",
       "      <td>0.014799</td>\n",
       "      <td>-0.038618</td>\n",
       "      <td>0.014433</td>\n",
       "      <td>0</td>\n",
       "    </tr>\n",
       "  </tbody>\n",
       "</table>\n",
       "<p>40000 rows × 54 columns</p>\n",
       "</div>"
      ],
      "text/plain": [
       "       fwd_returns         1         2         3         4         5  \\\n",
       "0        -0.005642 -0.003846  0.003413 -0.019071 -0.009660  0.008286   \n",
       "1        -0.010648  0.029965  0.000784  0.041012  0.009267  0.024689   \n",
       "2        -0.010184  0.090171 -0.052591 -0.005359  0.105501 -0.027702   \n",
       "3        -0.001361  0.044034 -0.014006 -0.017882  0.013947  0.040639   \n",
       "4        -0.008553 -0.001490  0.003888  0.010375  0.112630 -0.000448   \n",
       "...            ...       ...       ...       ...       ...       ...   \n",
       "39995     0.025394 -0.013230 -0.020016 -0.028500  0.007368 -0.062442   \n",
       "39996    -0.047619 -0.060703  0.064626 -0.114458  0.044025  0.012739   \n",
       "39997     0.000000  0.000000  0.000000  0.000000  0.000000  0.000000   \n",
       "39998     0.002283  0.032532 -0.002352 -0.028780  0.034988 -0.027435   \n",
       "39999     0.000000  0.000000  0.000000  0.000000  0.000000  0.000000   \n",
       "\n",
       "              6         7         8         9  ...        44        45  \\\n",
       "0      0.029636 -0.022817  0.005885  0.010706  ...  0.002131  0.025218   \n",
       "1      0.034265 -0.034352 -0.002313 -0.084328  ... -0.013430  0.009903   \n",
       "2     -0.003553  0.004392 -0.069239 -0.084230  ...  0.009283 -0.103827   \n",
       "3      0.019231 -0.018868 -0.010057  0.005780  ...  0.004367  0.000000   \n",
       "4      0.099114 -0.007090 -0.001587 -0.055888  ... -0.026303 -0.015056   \n",
       "...         ...       ...       ...       ...  ...       ...       ...   \n",
       "39995 -0.007455 -0.013103  0.014049 -0.018455  ... -0.024192 -0.048027   \n",
       "39996 -0.059880  0.077419  0.000000  0.065292  ...  0.000000 -0.084270   \n",
       "39997  0.000000  0.000000  0.000000  0.000000  ...  0.000000  0.000000   \n",
       "39998 -0.071338  0.014649  0.015311  0.013298  ...  0.003326 -0.020098   \n",
       "39999  0.000000  0.000000  0.000000  0.000000  ...  0.027837  0.000000   \n",
       "\n",
       "             46        47        48        49        50        51        52  \\\n",
       "0      0.019846  0.015005  0.021630 -0.021976  0.014586  0.053336 -0.011001   \n",
       "1      0.053175 -0.058573 -0.021875  0.007345  0.031162 -0.010281 -0.036922   \n",
       "2      0.004009 -0.019974  0.007588 -0.054290  0.038561 -0.035324 -0.007138   \n",
       "3      0.010294 -0.028571  0.070336 -0.006079  0.006116 -0.010590 -0.006015   \n",
       "4      0.007988 -0.009856 -0.041574 -0.018823  0.030419  0.003016 -0.010358   \n",
       "...         ...       ...       ...       ...       ...       ...       ...   \n",
       "39995 -0.023723  0.028147  0.001709  0.011844 -0.002312 -0.045661  0.024295   \n",
       "39996 -0.105528 -0.095455 -0.090909  0.000000  0.085202  0.179894  0.000000   \n",
       "39997  0.000000  0.000000  0.000000  0.000000  0.000000  0.000000  0.000000   \n",
       "39998  0.009874 -0.008700  0.015461  0.001106  0.004442 -0.001109  0.034423   \n",
       "39999 -0.039095 -0.028000 -0.001996  0.043750  0.014799 -0.038618  0.014433   \n",
       "\n",
       "       label  \n",
       "0          0  \n",
       "1          0  \n",
       "2          0  \n",
       "3          0  \n",
       "4          0  \n",
       "...      ...  \n",
       "39995      1  \n",
       "39996      0  \n",
       "39997      0  \n",
       "39998      1  \n",
       "39999      0  \n",
       "\n",
       "[40000 rows x 54 columns]"
      ]
     },
     "execution_count": 6,
     "metadata": {},
     "output_type": "execute_result"
    }
   ],
   "source": [
    "data"
   ]
  },
  {
   "cell_type": "code",
   "execution_count": 7,
   "metadata": {},
   "outputs": [],
   "source": [
    "x = data.drop('label', axis = 1)\n",
    "y = data['label']"
   ]
  },
  {
   "cell_type": "code",
   "execution_count": 8,
   "metadata": {},
   "outputs": [],
   "source": [
    "xtrain, xtest, ytrain, ytest = train_test_split(x, y, train_size = 0.7, random_state = 42)"
   ]
  },
  {
   "cell_type": "code",
   "execution_count": 9,
   "metadata": {},
   "outputs": [
    {
     "data": {
      "text/plain": [
       "((28000, 53), (12000, 53), (28000,), (12000,))"
      ]
     },
     "execution_count": 9,
     "metadata": {},
     "output_type": "execute_result"
    }
   ],
   "source": [
    "xtrain.shape, xtest.shape, ytrain.shape, ytest.shape"
   ]
  },
  {
   "cell_type": "code",
   "execution_count": 10,
   "metadata": {},
   "outputs": [],
   "source": [
    "xtest, xvalid, ytest, yvalid = train_test_split(xtest, ytest, test_size = 0.5, random_state = 42)"
   ]
  },
  {
   "cell_type": "code",
   "execution_count": 11,
   "metadata": {},
   "outputs": [
    {
     "data": {
      "text/plain": [
       "((6000, 53), (6000, 53), (6000,), (6000,))"
      ]
     },
     "execution_count": 11,
     "metadata": {},
     "output_type": "execute_result"
    }
   ],
   "source": [
    "xtest.shape, xvalid.shape, ytest.shape, yvalid.shape"
   ]
  },
  {
   "cell_type": "code",
   "execution_count": 12,
   "metadata": {},
   "outputs": [],
   "source": [
    "xtrain = tc.FloatTensor(np.array(xtrain))\n",
    "ytrain = tc.FloatTensor(np.array(ytrain))\n",
    "\n",
    "xtest = tc.FloatTensor(np.array(xtest))\n",
    "ytest = tc.FloatTensor(np.array(ytest))\n",
    "\n",
    "xvalid = tc.FloatTensor(np.array(xvalid))\n",
    "yvalid = tc.FloatTensor(np.array(yvalid))"
   ]
  },
  {
   "cell_type": "code",
   "execution_count": 13,
   "metadata": {},
   "outputs": [],
   "source": [
    "mean = xtrain.mean(dim = 0)\n",
    "std = xtrain.std(dim = 0)"
   ]
  },
  {
   "cell_type": "code",
   "execution_count": 14,
   "metadata": {},
   "outputs": [],
   "source": [
    "xtrain = (xtrain - mean)/std \n",
    "xtest = (xtest - mean)/std \n",
    "xvalid = (xvalid - mean)/std"
   ]
  },
  {
   "cell_type": "code",
   "execution_count": 15,
   "metadata": {},
   "outputs": [],
   "source": [
    "train_dataset = TensorDataset(xtrain, ytrain)\n",
    "valid_dataset = TensorDataset(xvalid, yvalid)"
   ]
  },
  {
   "cell_type": "code",
   "execution_count": 16,
   "metadata": {},
   "outputs": [],
   "source": [
    "train_loader = DataLoader(train_dataset, batch_size = 256, shuffle = True)\n",
    "valid_loader = DataLoader(valid_dataset, batch_size = 512, shuffle = False)\n"
   ]
  },
  {
   "cell_type": "code",
   "execution_count": 17,
   "metadata": {},
   "outputs": [],
   "source": [
    "class RNNModel(nn.Module):\n",
    "    \n",
    "    def __init__(self, RNN, input_size, hidden_size, layer, bidirectional):\n",
    "        super().__init__()\n",
    "        \n",
    "        self.rnn = RNN(input_size, hidden_size = hidden_size, num_layers = layer, bidirectional = bidirectional)\n",
    "    \n",
    "        self.fc = nn.LazyLinear(1)\n",
    "        \n",
    "    def forward(self, x):\n",
    "        \n",
    "        y, hidden_state = self.rnn(x)\n",
    "        \n",
    "        y = self.fc(y)\n",
    "        \n",
    "        return y"
   ]
  },
  {
   "cell_type": "code",
   "execution_count": 18,
   "metadata": {},
   "outputs": [
    {
     "name": "stderr",
     "output_type": "stream",
     "text": [
      "/home/ahmadrezabaqerzadeh/.local/lib/python3.10/site-packages/torch/nn/modules/lazy.py:180: UserWarning: Lazy modules are a new feature under heavy development so changes to the API or functionality can happen at any moment.\n",
      "  warnings.warn('Lazy modules are a new feature under heavy development '\n"
     ]
    }
   ],
   "source": [
    "model = RNNModel(nn.LSTM, 53, 64, 1, False)"
   ]
  },
  {
   "cell_type": "code",
   "execution_count": 19,
   "metadata": {},
   "outputs": [],
   "source": [
    "x, y = next(iter(train_loader))"
   ]
  },
  {
   "cell_type": "code",
   "execution_count": 20,
   "metadata": {},
   "outputs": [
    {
     "data": {
      "text/plain": [
       "torch.Size([256, 1])"
      ]
     },
     "execution_count": 20,
     "metadata": {},
     "output_type": "execute_result"
    }
   ],
   "source": [
    "model(x).shape"
   ]
  },
  {
   "cell_type": "code",
   "execution_count": 21,
   "metadata": {},
   "outputs": [],
   "source": [
    "device = 'cuda' if tc.cuda.is_available() else 'cpu'"
   ]
  },
  {
   "cell_type": "code",
   "execution_count": 22,
   "metadata": {},
   "outputs": [],
   "source": [
    "class AverageMeter(object):\n",
    "    \"\"\"Computes and stores the average and current value\"\"\"\n",
    "    def __init__(self):\n",
    "        self.reset()\n",
    "\n",
    "    def reset(self):\n",
    "        self.val = 0\n",
    "        self.avg = 0\n",
    "        self.sum = 0\n",
    "        self.count = 0\n",
    "\n",
    "    def update(self, val, n=1):\n",
    "        self.val = val\n",
    "        self.sum += val * n\n",
    "        self.count += n\n",
    "        self.avg = self.sum / self.count"
   ]
  },
  {
   "cell_type": "code",
   "execution_count": 23,
   "metadata": {},
   "outputs": [],
   "source": [
    "def train_one_epoch(model, train_loader, loss_func, optimizer, epoch):\n",
    "    \n",
    "    train_loss = AverageMeter()\n",
    "    train_acc = Accuracy(task = 'binary').to(device)\n",
    "    \n",
    "    with tqdm(train_loader, unit = 'batch') as tepoch:\n",
    "        \n",
    "        if epoch is not None:\n",
    "            tepoch.set_description(f'Epoch={epoch}')\n",
    "        \n",
    "        for x, y in tepoch:\n",
    "            \n",
    "            x = x.to(device)\n",
    "            y = y.to(device)\n",
    "            \n",
    "            yp = model(x)\n",
    "            loss = loss_func(yp.squeeze(), y)\n",
    "            loss.backward()\n",
    "            optimizer.step()\n",
    "            optimizer.zero_grad()\n",
    "            \n",
    "            train_loss.update(loss.item())\n",
    "            train_acc(yp.squeeze(), y)\n",
    "            \n",
    "            tepoch.set_postfix(loss = train_loss.avg, accuracy = train_acc.compute().item() * 100)\n",
    "            \n",
    "    return model, train_loss.avg, train_acc.compute().item()"
   ]
  },
  {
   "cell_type": "code",
   "execution_count": 24,
   "metadata": {},
   "outputs": [],
   "source": [
    "def validation(model, valid_loaedr, loss_func):\n",
    "    model.eval()\n",
    "\n",
    "    valid_loss=AverageMeter()\n",
    "    valid_acc=Accuracy(task='binary').to(device)\n",
    "\n",
    "    for x, y in valid_loaedr:\n",
    "\n",
    "        x=x.to(device)\n",
    "        y=y.to(device)\n",
    "\n",
    "        yp=model(x)\n",
    "        loss=loss_func(yp.squeeze(), y)\n",
    "\n",
    "        valid_loss.update(loss.item())\n",
    "        valid_acc(yp.squeeze(), y)\n",
    "\n",
    "    print(f'valid loss={valid_loss.avg:.4}, accuracy={valid_acc.compute() * 100 :.4}')\n",
    "    print()\n",
    "\n",
    "    return valid_loss.avg, valid_acc.compute().item()"
   ]
  },
  {
   "cell_type": "code",
   "execution_count": 25,
   "metadata": {},
   "outputs": [],
   "source": [
    "model = model.to(device)"
   ]
  },
  {
   "cell_type": "code",
   "execution_count": 26,
   "metadata": {},
   "outputs": [],
   "source": [
    "optimizer = optim.Adam(model.parameters(), lr = 0.01, betas = [0.9, 0.99])\n",
    "loss_func = nn.BCEWithLogitsLoss()"
   ]
  },
  {
   "cell_type": "code",
   "execution_count": 28,
   "metadata": {},
   "outputs": [
    {
     "name": "stderr",
     "output_type": "stream",
     "text": [
      "Epoch=1:  96%|█████████▋| 106/110 [00:02<00:00, 42.37batch/s, accuracy=95.3, loss=0.124]\n"
     ]
    },
    {
     "ename": "KeyboardInterrupt",
     "evalue": "",
     "output_type": "error",
     "traceback": [
      "\u001b[0;31m---------------------------------------------------------------------------\u001b[0m",
      "\u001b[0;31mKeyboardInterrupt\u001b[0m                         Traceback (most recent call last)",
      "Cell \u001b[0;32mIn[28], line 1\u001b[0m\n\u001b[0;32m----> 1\u001b[0m train_one_epoch(model, train_loader, loss_func, optimizer, \u001b[39m1\u001b[39;49m)\n",
      "Cell \u001b[0;32mIn[23], line 25\u001b[0m, in \u001b[0;36mtrain_one_epoch\u001b[0;34m(model, train_loader, loss_func, optimizer, epoch)\u001b[0m\n\u001b[1;32m     22\u001b[0m         train_loss\u001b[39m.\u001b[39mupdate(loss\u001b[39m.\u001b[39mitem())\n\u001b[1;32m     23\u001b[0m         train_acc(yp\u001b[39m.\u001b[39msqueeze(), y)\n\u001b[0;32m---> 25\u001b[0m         tepoch\u001b[39m.\u001b[39;49mset_postfix(loss \u001b[39m=\u001b[39;49m train_loss\u001b[39m.\u001b[39;49mavg, accuracy \u001b[39m=\u001b[39;49m train_acc\u001b[39m.\u001b[39;49mcompute()\u001b[39m.\u001b[39;49mitem() \u001b[39m*\u001b[39;49m \u001b[39m100\u001b[39;49m)\n\u001b[1;32m     27\u001b[0m \u001b[39mreturn\u001b[39;00m model, train_loss\u001b[39m.\u001b[39mavg, train_acc\u001b[39m.\u001b[39mcompute()\u001b[39m.\u001b[39mitem()\n",
      "\u001b[0;31mKeyboardInterrupt\u001b[0m: "
     ]
    }
   ],
   "source": [
    "train_one_epoch(model, train_loader, loss_func, optimizer, 1)"
   ]
  },
  {
   "cell_type": "code",
   "execution_count": 37,
   "metadata": {},
   "outputs": [
    {
     "name": "stderr",
     "output_type": "stream",
     "text": [
      "/home/ahmadrezabaqerzadeh/.local/lib/python3.10/site-packages/torch/nn/modules/lazy.py:180: UserWarning: Lazy modules are a new feature under heavy development so changes to the API or functionality can happen at any moment.\n",
      "  warnings.warn('Lazy modules are a new feature under heavy development '\n"
     ]
    }
   ],
   "source": [
    "model = RNNModel(nn.RNN, 53, 128, 2, False).to(device)"
   ]
  },
  {
   "cell_type": "code",
   "execution_count": 38,
   "metadata": {},
   "outputs": [],
   "source": [
    "optimizer = optim.Adam(model.parameters(), lr = 0.002, betas = [0.9, 0.99])\n",
    "loss_func = nn.BCEWithLogitsLoss()"
   ]
  },
  {
   "cell_type": "code",
   "execution_count": 39,
   "metadata": {},
   "outputs": [],
   "source": [
    "loss_train_hist, acc_train_hist = [], []\n",
    "loss_valid_hist, acc_valid_hist = [], []\n",
    "\n",
    "best_loss = tc.inf \n",
    "best_model = [0]"
   ]
  },
  {
   "cell_type": "code",
   "execution_count": 40,
   "metadata": {},
   "outputs": [
    {
     "name": "stderr",
     "output_type": "stream",
     "text": [
      "Epoch=0: 100%|██████████| 110/110 [00:04<00:00, 22.10batch/s, accuracy=87.2, loss=0.291]\n"
     ]
    },
    {
     "name": "stdout",
     "output_type": "stream",
     "text": [
      "valid loss=0.1752, accuracy=93.2\n",
      "\n",
      "model saved!\n"
     ]
    },
    {
     "name": "stderr",
     "output_type": "stream",
     "text": [
      "Epoch=1: 100%|██████████| 110/110 [00:04<00:00, 22.05batch/s, accuracy=94.5, loss=0.142]\n"
     ]
    },
    {
     "name": "stdout",
     "output_type": "stream",
     "text": [
      "valid loss=0.1264, accuracy=94.9\n",
      "\n",
      "model saved!\n"
     ]
    },
    {
     "name": "stderr",
     "output_type": "stream",
     "text": [
      "Epoch=2: 100%|██████████| 110/110 [00:04<00:00, 23.44batch/s, accuracy=95.6, loss=0.116]\n"
     ]
    },
    {
     "name": "stdout",
     "output_type": "stream",
     "text": [
      "valid loss=0.1058, accuracy=95.97\n",
      "\n",
      "model saved!\n"
     ]
    },
    {
     "name": "stderr",
     "output_type": "stream",
     "text": [
      "Epoch=3: 100%|██████████| 110/110 [00:04<00:00, 24.45batch/s, accuracy=96.5, loss=0.0942]\n"
     ]
    },
    {
     "name": "stdout",
     "output_type": "stream",
     "text": [
      "valid loss=0.1029, accuracy=96.17\n",
      "\n",
      "model saved!\n"
     ]
    },
    {
     "name": "stderr",
     "output_type": "stream",
     "text": [
      "Epoch=4: 100%|██████████| 110/110 [00:04<00:00, 24.78batch/s, accuracy=96.8, loss=0.0862]\n"
     ]
    },
    {
     "name": "stdout",
     "output_type": "stream",
     "text": [
      "valid loss=0.07245, accuracy=97.58\n",
      "\n",
      "model saved!\n"
     ]
    },
    {
     "name": "stderr",
     "output_type": "stream",
     "text": [
      "Epoch=5: 100%|██████████| 110/110 [00:04<00:00, 24.59batch/s, accuracy=97.1, loss=0.0784]\n"
     ]
    },
    {
     "name": "stdout",
     "output_type": "stream",
     "text": [
      "valid loss=0.07816, accuracy=97.1\n",
      "\n"
     ]
    },
    {
     "name": "stderr",
     "output_type": "stream",
     "text": [
      "Epoch=6: 100%|██████████| 110/110 [00:04<00:00, 24.30batch/s, accuracy=97.6, loss=0.0665]\n"
     ]
    },
    {
     "name": "stdout",
     "output_type": "stream",
     "text": [
      "valid loss=0.06348, accuracy=97.73\n",
      "\n",
      "model saved!\n"
     ]
    },
    {
     "name": "stderr",
     "output_type": "stream",
     "text": [
      "Epoch=7: 100%|██████████| 110/110 [00:04<00:00, 24.17batch/s, accuracy=97.8, loss=0.0639]\n"
     ]
    },
    {
     "name": "stdout",
     "output_type": "stream",
     "text": [
      "valid loss=0.07269, accuracy=97.45\n",
      "\n"
     ]
    },
    {
     "name": "stderr",
     "output_type": "stream",
     "text": [
      "Epoch=8: 100%|██████████| 110/110 [00:04<00:00, 24.67batch/s, accuracy=98.1, loss=0.0554]\n"
     ]
    },
    {
     "name": "stdout",
     "output_type": "stream",
     "text": [
      "valid loss=0.06543, accuracy=97.73\n",
      "\n"
     ]
    },
    {
     "name": "stderr",
     "output_type": "stream",
     "text": [
      "Epoch=9: 100%|██████████| 110/110 [00:04<00:00, 23.92batch/s, accuracy=98.1, loss=0.0539]\n"
     ]
    },
    {
     "name": "stdout",
     "output_type": "stream",
     "text": [
      "valid loss=0.04053, accuracy=98.6\n",
      "\n",
      "model saved!\n"
     ]
    },
    {
     "name": "stderr",
     "output_type": "stream",
     "text": [
      "Epoch=10: 100%|██████████| 110/110 [00:04<00:00, 25.00batch/s, accuracy=98.1, loss=0.0504]\n"
     ]
    },
    {
     "name": "stdout",
     "output_type": "stream",
     "text": [
      "valid loss=0.04582, accuracy=98.32\n",
      "\n"
     ]
    },
    {
     "name": "stderr",
     "output_type": "stream",
     "text": [
      "Epoch=11: 100%|██████████| 110/110 [00:04<00:00, 24.85batch/s, accuracy=98.4, loss=0.0447]\n"
     ]
    },
    {
     "name": "stdout",
     "output_type": "stream",
     "text": [
      "valid loss=0.0485, accuracy=98.37\n",
      "\n"
     ]
    },
    {
     "name": "stderr",
     "output_type": "stream",
     "text": [
      "Epoch=12: 100%|██████████| 110/110 [00:04<00:00, 23.90batch/s, accuracy=98.4, loss=0.044] \n"
     ]
    },
    {
     "name": "stdout",
     "output_type": "stream",
     "text": [
      "valid loss=0.0475, accuracy=98.35\n",
      "\n"
     ]
    },
    {
     "name": "stderr",
     "output_type": "stream",
     "text": [
      "Epoch=13: 100%|██████████| 110/110 [00:04<00:00, 24.42batch/s, accuracy=98.3, loss=0.0468]\n"
     ]
    },
    {
     "name": "stdout",
     "output_type": "stream",
     "text": [
      "valid loss=0.04013, accuracy=98.5\n",
      "\n",
      "model saved!\n"
     ]
    },
    {
     "name": "stderr",
     "output_type": "stream",
     "text": [
      "Epoch=14: 100%|██████████| 110/110 [00:04<00:00, 24.20batch/s, accuracy=98.5, loss=0.0411]\n"
     ]
    },
    {
     "name": "stdout",
     "output_type": "stream",
     "text": [
      "valid loss=0.05015, accuracy=98.28\n",
      "\n"
     ]
    },
    {
     "name": "stderr",
     "output_type": "stream",
     "text": [
      "Epoch=15: 100%|██████████| 110/110 [00:04<00:00, 24.43batch/s, accuracy=98.5, loss=0.0403]\n"
     ]
    },
    {
     "name": "stdout",
     "output_type": "stream",
     "text": [
      "valid loss=0.03682, accuracy=98.62\n",
      "\n",
      "model saved!\n"
     ]
    },
    {
     "name": "stderr",
     "output_type": "stream",
     "text": [
      "Epoch=16: 100%|██████████| 110/110 [00:04<00:00, 24.09batch/s, accuracy=98.8, loss=0.0352]\n"
     ]
    },
    {
     "name": "stdout",
     "output_type": "stream",
     "text": [
      "valid loss=0.0415, accuracy=98.6\n",
      "\n"
     ]
    },
    {
     "name": "stderr",
     "output_type": "stream",
     "text": [
      "Epoch=17: 100%|██████████| 110/110 [00:04<00:00, 24.55batch/s, accuracy=98.9, loss=0.0317]\n"
     ]
    },
    {
     "name": "stdout",
     "output_type": "stream",
     "text": [
      "valid loss=0.03617, accuracy=98.63\n",
      "\n",
      "model saved!\n"
     ]
    },
    {
     "name": "stderr",
     "output_type": "stream",
     "text": [
      "Epoch=18: 100%|██████████| 110/110 [00:04<00:00, 24.90batch/s, accuracy=98.8, loss=0.0355]\n"
     ]
    },
    {
     "name": "stdout",
     "output_type": "stream",
     "text": [
      "valid loss=0.0351, accuracy=98.72\n",
      "\n",
      "model saved!\n"
     ]
    },
    {
     "name": "stderr",
     "output_type": "stream",
     "text": [
      "Epoch=19: 100%|██████████| 110/110 [00:04<00:00, 24.72batch/s, accuracy=99, loss=0.0276] \n"
     ]
    },
    {
     "name": "stdout",
     "output_type": "stream",
     "text": [
      "valid loss=0.032, accuracy=98.78\n",
      "\n",
      "model saved!\n"
     ]
    },
    {
     "name": "stderr",
     "output_type": "stream",
     "text": [
      "Epoch=20: 100%|██████████| 110/110 [00:04<00:00, 24.32batch/s, accuracy=99, loss=0.0287] \n"
     ]
    },
    {
     "name": "stdout",
     "output_type": "stream",
     "text": [
      "valid loss=0.0451, accuracy=98.52\n",
      "\n"
     ]
    },
    {
     "name": "stderr",
     "output_type": "stream",
     "text": [
      "Epoch=21: 100%|██████████| 110/110 [00:04<00:00, 24.33batch/s, accuracy=98.8, loss=0.0341]\n"
     ]
    },
    {
     "name": "stdout",
     "output_type": "stream",
     "text": [
      "valid loss=0.0517, accuracy=98.28\n",
      "\n"
     ]
    },
    {
     "name": "stderr",
     "output_type": "stream",
     "text": [
      "Epoch=22: 100%|██████████| 110/110 [00:04<00:00, 23.92batch/s, accuracy=99.1, loss=0.0261]\n"
     ]
    },
    {
     "name": "stdout",
     "output_type": "stream",
     "text": [
      "valid loss=0.03362, accuracy=98.67\n",
      "\n"
     ]
    },
    {
     "name": "stderr",
     "output_type": "stream",
     "text": [
      "Epoch=23: 100%|██████████| 110/110 [00:04<00:00, 24.94batch/s, accuracy=99.1, loss=0.0255]\n"
     ]
    },
    {
     "name": "stdout",
     "output_type": "stream",
     "text": [
      "valid loss=0.03276, accuracy=98.83\n",
      "\n"
     ]
    },
    {
     "name": "stderr",
     "output_type": "stream",
     "text": [
      "Epoch=24: 100%|██████████| 110/110 [00:04<00:00, 23.99batch/s, accuracy=99.1, loss=0.0236]\n"
     ]
    },
    {
     "name": "stdout",
     "output_type": "stream",
     "text": [
      "valid loss=0.03892, accuracy=98.62\n",
      "\n"
     ]
    }
   ],
   "source": [
    "N = 25\n",
    "for i in range(N):\n",
    "\n",
    "  model, train_loss, train_acc = train_one_epoch(model, train_loader, loss_func, optimizer, i)\n",
    "  valid_loss, valid_acc = validation(model,valid_loader,loss_func)\n",
    "\n",
    "  acc_train_hist.append(train_acc)\n",
    "  loss_train_hist.append(train_loss)\n",
    "\n",
    "  acc_valid_hist.append(valid_acc)\n",
    "  loss_valid_hist.append(valid_loss)\n",
    "\n",
    "  if valid_loss<best_loss:\n",
    "    best_loss = valid_loss\n",
    "    best_model[0] == model\n",
    "    print('model saved!')"
   ]
  },
  {
   "cell_type": "code",
   "execution_count": 41,
   "metadata": {},
   "outputs": [
    {
     "data": {
      "image/png": "[encoded data removed]",
      "text/plain": [
       "<Figure size 640x480 with 1 Axes>"
      ]
     },
     "metadata": {},
     "output_type": "display_data"
    }
   ],
   "source": [
    "plt.plot(range(N), loss_train_hist, label='train loss')\n",
    "plt.plot(range(N), loss_valid_hist, label='valid loss')\n",
    "plt.xlabel('Epoch')\n",
    "plt.ylabel('Loss')\n",
    "#plt.yticks(np.arange(0,1,0.1))\n",
    "plt.legend()\n",
    "plt.show()"
   ]
  },
  {
   "cell_type": "code",
   "execution_count": 42,
   "metadata": {},
   "outputs": [
    {
     "data": {
      "image/png": "[encoded data removed]",
      "text/plain": [
       "<Figure size 640x480 with 1 Axes>"
      ]
     },
     "metadata": {},
     "output_type": "display_data"
    }
   ],
   "source": [
    "plt.plot(range(N), acc_train_hist, label='train accuracy')\n",
    "plt.plot(range(N), acc_valid_hist, label='valid accuracy')\n",
    "plt.xlabel('Epoch')\n",
    "plt.ylabel('Accuracy')\n",
    "#plt.yticks(np.arange(0,1,0.1))\n",
    "plt.legend()\n",
    "plt.show()"
   ]
  },
  {
   "cell_type": "code",
   "execution_count": 53,
   "metadata": {},
   "outputs": [],
   "source": [
    "model = RNNModel(nn.LSTM, 53, 128, 2, False).to(device)"
   ]
  },
  {
   "cell_type": "code",
   "execution_count": 54,
   "metadata": {},
   "outputs": [],
   "source": [
    "optimizer = optim.Adam(model.parameters(), lr = 0.002, betas = [0.9, 0.99])\n",
    "loss_func = nn.BCEWithLogitsLoss()"
   ]
  },
  {
   "cell_type": "code",
   "execution_count": 55,
   "metadata": {},
   "outputs": [],
   "source": [
    "loss_train_hist, acc_train_hist = [], []\n",
    "loss_valid_hist, acc_valid_hist = [], []\n",
    "\n",
    "best_loss = tc.inf \n",
    "best_model1 = [0]"
   ]
  },
  {
   "cell_type": "code",
   "execution_count": 56,
   "metadata": {},
   "outputs": [
    {
     "name": "stderr",
     "output_type": "stream",
     "text": [
      "Epoch=0: 100%|██████████| 110/110 [00:11<00:00,  9.97batch/s, accuracy=81.7, loss=0.365]\n"
     ]
    },
    {
     "name": "stdout",
     "output_type": "stream",
     "text": [
      "valid loss=0.1654, accuracy=93.02\n",
      "\n",
      "model saved!\n"
     ]
    },
    {
     "name": "stderr",
     "output_type": "stream",
     "text": [
      "Epoch=1: 100%|██████████| 110/110 [00:09<00:00, 11.72batch/s, accuracy=95.6, loss=0.118]\n"
     ]
    },
    {
     "name": "stdout",
     "output_type": "stream",
     "text": [
      "valid loss=0.09697, accuracy=96.1\n",
      "\n",
      "model saved!\n"
     ]
    },
    {
     "name": "stderr",
     "output_type": "stream",
     "text": [
      "Epoch=2: 100%|██████████| 110/110 [00:09<00:00, 11.61batch/s, accuracy=96.9, loss=0.0812]\n"
     ]
    },
    {
     "name": "stdout",
     "output_type": "stream",
     "text": [
      "valid loss=0.09406, accuracy=96.93\n",
      "\n",
      "model saved!\n"
     ]
    },
    {
     "name": "stderr",
     "output_type": "stream",
     "text": [
      "Epoch=3: 100%|██████████| 110/110 [00:09<00:00, 11.51batch/s, accuracy=97.5, loss=0.0698]\n"
     ]
    },
    {
     "name": "stdout",
     "output_type": "stream",
     "text": [
      "valid loss=0.0709, accuracy=97.53\n",
      "\n",
      "model saved!\n"
     ]
    },
    {
     "name": "stderr",
     "output_type": "stream",
     "text": [
      "Epoch=4: 100%|██████████| 110/110 [00:09<00:00, 11.82batch/s, accuracy=97.9, loss=0.0577]\n"
     ]
    },
    {
     "name": "stdout",
     "output_type": "stream",
     "text": [
      "valid loss=0.07667, accuracy=97.25\n",
      "\n"
     ]
    },
    {
     "name": "stderr",
     "output_type": "stream",
     "text": [
      "Epoch=5: 100%|██████████| 110/110 [00:09<00:00, 11.95batch/s, accuracy=98.2, loss=0.0498]\n"
     ]
    },
    {
     "name": "stdout",
     "output_type": "stream",
     "text": [
      "valid loss=0.06964, accuracy=97.55\n",
      "\n",
      "model saved!\n"
     ]
    },
    {
     "name": "stderr",
     "output_type": "stream",
     "text": [
      "Epoch=6: 100%|██████████| 110/110 [00:09<00:00, 11.61batch/s, accuracy=98.4, loss=0.047] \n"
     ]
    },
    {
     "name": "stdout",
     "output_type": "stream",
     "text": [
      "valid loss=0.07036, accuracy=97.7\n",
      "\n"
     ]
    },
    {
     "name": "stderr",
     "output_type": "stream",
     "text": [
      "Epoch=7: 100%|██████████| 110/110 [00:09<00:00, 12.02batch/s, accuracy=98.4, loss=0.0431]\n"
     ]
    },
    {
     "name": "stdout",
     "output_type": "stream",
     "text": [
      "valid loss=0.06339, accuracy=97.8\n",
      "\n",
      "model saved!\n"
     ]
    },
    {
     "name": "stderr",
     "output_type": "stream",
     "text": [
      "Epoch=8: 100%|██████████| 110/110 [00:09<00:00, 11.67batch/s, accuracy=98.7, loss=0.0361]\n"
     ]
    },
    {
     "name": "stdout",
     "output_type": "stream",
     "text": [
      "valid loss=0.06926, accuracy=97.57\n",
      "\n"
     ]
    },
    {
     "name": "stderr",
     "output_type": "stream",
     "text": [
      "Epoch=9: 100%|██████████| 110/110 [00:09<00:00, 11.66batch/s, accuracy=98.7, loss=0.0352]\n"
     ]
    },
    {
     "name": "stdout",
     "output_type": "stream",
     "text": [
      "valid loss=0.06151, accuracy=97.82\n",
      "\n",
      "model saved!\n"
     ]
    },
    {
     "name": "stderr",
     "output_type": "stream",
     "text": [
      "Epoch=10: 100%|██████████| 110/110 [00:09<00:00, 11.66batch/s, accuracy=98.9, loss=0.0283]\n"
     ]
    },
    {
     "name": "stdout",
     "output_type": "stream",
     "text": [
      "valid loss=0.06436, accuracy=97.88\n",
      "\n"
     ]
    },
    {
     "name": "stderr",
     "output_type": "stream",
     "text": [
      "Epoch=11: 100%|██████████| 110/110 [00:09<00:00, 11.87batch/s, accuracy=98.9, loss=0.0292]\n"
     ]
    },
    {
     "name": "stdout",
     "output_type": "stream",
     "text": [
      "valid loss=0.0613, accuracy=97.87\n",
      "\n",
      "model saved!\n"
     ]
    },
    {
     "name": "stderr",
     "output_type": "stream",
     "text": [
      "Epoch=12: 100%|██████████| 110/110 [00:09<00:00, 11.79batch/s, accuracy=99.2, loss=0.0226]\n"
     ]
    },
    {
     "name": "stdout",
     "output_type": "stream",
     "text": [
      "valid loss=0.07301, accuracy=97.75\n",
      "\n"
     ]
    },
    {
     "name": "stderr",
     "output_type": "stream",
     "text": [
      "Epoch=13: 100%|██████████| 110/110 [00:09<00:00, 11.69batch/s, accuracy=99, loss=0.0268] \n"
     ]
    },
    {
     "name": "stdout",
     "output_type": "stream",
     "text": [
      "valid loss=0.06464, accuracy=97.95\n",
      "\n"
     ]
    },
    {
     "name": "stderr",
     "output_type": "stream",
     "text": [
      "Epoch=14: 100%|██████████| 110/110 [00:09<00:00, 11.69batch/s, accuracy=99.2, loss=0.021] \n"
     ]
    },
    {
     "name": "stdout",
     "output_type": "stream",
     "text": [
      "valid loss=0.07526, accuracy=97.8\n",
      "\n"
     ]
    },
    {
     "name": "stderr",
     "output_type": "stream",
     "text": [
      "Epoch=15: 100%|██████████| 110/110 [00:09<00:00, 11.75batch/s, accuracy=99.3, loss=0.0188]\n"
     ]
    },
    {
     "name": "stdout",
     "output_type": "stream",
     "text": [
      "valid loss=0.09391, accuracy=97.6\n",
      "\n"
     ]
    },
    {
     "name": "stderr",
     "output_type": "stream",
     "text": [
      "Epoch=16: 100%|██████████| 110/110 [00:09<00:00, 11.75batch/s, accuracy=99.4, loss=0.018] \n"
     ]
    },
    {
     "name": "stdout",
     "output_type": "stream",
     "text": [
      "valid loss=0.07094, accuracy=97.97\n",
      "\n"
     ]
    },
    {
     "name": "stderr",
     "output_type": "stream",
     "text": [
      "Epoch=17: 100%|██████████| 110/110 [00:09<00:00, 11.83batch/s, accuracy=99.4, loss=0.0167]\n"
     ]
    },
    {
     "name": "stdout",
     "output_type": "stream",
     "text": [
      "valid loss=0.06853, accuracy=98.08\n",
      "\n"
     ]
    },
    {
     "name": "stderr",
     "output_type": "stream",
     "text": [
      "Epoch=18: 100%|██████████| 110/110 [00:09<00:00, 11.60batch/s, accuracy=99.4, loss=0.0165]\n"
     ]
    },
    {
     "name": "stdout",
     "output_type": "stream",
     "text": [
      "valid loss=0.0706, accuracy=97.73\n",
      "\n"
     ]
    },
    {
     "name": "stderr",
     "output_type": "stream",
     "text": [
      "Epoch=19: 100%|██████████| 110/110 [00:09<00:00, 11.63batch/s, accuracy=99.5, loss=0.0153]\n"
     ]
    },
    {
     "name": "stdout",
     "output_type": "stream",
     "text": [
      "valid loss=0.06677, accuracy=98.13\n",
      "\n"
     ]
    },
    {
     "name": "stderr",
     "output_type": "stream",
     "text": [
      "Epoch=20: 100%|██████████| 110/110 [00:09<00:00, 11.53batch/s, accuracy=99.5, loss=0.0136]\n"
     ]
    },
    {
     "name": "stdout",
     "output_type": "stream",
     "text": [
      "valid loss=0.07144, accuracy=97.87\n",
      "\n"
     ]
    },
    {
     "name": "stderr",
     "output_type": "stream",
     "text": [
      "Epoch=21: 100%|██████████| 110/110 [00:09<00:00, 11.50batch/s, accuracy=99.6, loss=0.01]   \n"
     ]
    },
    {
     "name": "stdout",
     "output_type": "stream",
     "text": [
      "valid loss=0.082, accuracy=97.85\n",
      "\n"
     ]
    },
    {
     "name": "stderr",
     "output_type": "stream",
     "text": [
      "Epoch=22: 100%|██████████| 110/110 [00:09<00:00, 11.66batch/s, accuracy=99.5, loss=0.0134]\n"
     ]
    },
    {
     "name": "stdout",
     "output_type": "stream",
     "text": [
      "valid loss=0.07152, accuracy=97.95\n",
      "\n"
     ]
    },
    {
     "name": "stderr",
     "output_type": "stream",
     "text": [
      "Epoch=23: 100%|██████████| 110/110 [00:09<00:00, 11.58batch/s, accuracy=99.6, loss=0.0105]\n"
     ]
    },
    {
     "name": "stdout",
     "output_type": "stream",
     "text": [
      "valid loss=0.07284, accuracy=97.88\n",
      "\n"
     ]
    },
    {
     "name": "stderr",
     "output_type": "stream",
     "text": [
      "Epoch=24: 100%|██████████| 110/110 [00:09<00:00, 11.62batch/s, accuracy=99.6, loss=0.011] \n"
     ]
    },
    {
     "name": "stdout",
     "output_type": "stream",
     "text": [
      "valid loss=0.07123, accuracy=98.13\n",
      "\n"
     ]
    }
   ],
   "source": [
    "N = 25\n",
    "for i in range(N):\n",
    "\n",
    "  model, train_loss, train_acc = train_one_epoch(model, train_loader, loss_func, optimizer, i)\n",
    "  valid_loss, valid_acc = validation(model,valid_loader,loss_func)\n",
    "\n",
    "  acc_train_hist.append(train_acc)\n",
    "  loss_train_hist.append(train_loss)\n",
    "\n",
    "  acc_valid_hist.append(valid_acc)\n",
    "  loss_valid_hist.append(valid_loss)\n",
    "\n",
    "  if valid_loss<best_loss:\n",
    "    best_loss = valid_loss\n",
    "    best_model1[0] == model\n",
    "    print('model saved!')"
   ]
  },
  {
   "cell_type": "code",
   "execution_count": 57,
   "metadata": {},
   "outputs": [
    {
     "data": {
      "image/png": "[encoded data removed]",
      "text/plain": [
       "<Figure size 640x480 with 1 Axes>"
      ]
     },
     "metadata": {},
     "output_type": "display_data"
    }
   ],
   "source": [
    "plt.plot(range(N), loss_train_hist, label='train loss')\n",
    "plt.plot(range(N), loss_valid_hist, label='valid loss')\n",
    "plt.xlabel('Epoch')\n",
    "plt.ylabel('Loss')\n",
    "#plt.yticks(np.arange(0,1,0.1))\n",
    "plt.legend()\n",
    "plt.show()"
   ]
  },
  {
   "cell_type": "code",
   "execution_count": 58,
   "metadata": {},
   "outputs": [
    {
     "data": {
      "image/png": "[encoded data removed]",
      "text/plain": [
       "<Figure size 640x480 with 1 Axes>"
      ]
     },
     "metadata": {},
     "output_type": "display_data"
    }
   ],
   "source": [
    "plt.plot(range(N), acc_train_hist, label='train accuracy')\n",
    "plt.plot(range(N), acc_valid_hist, label='valid accuracy')\n",
    "plt.xlabel('Epoch')\n",
    "plt.ylabel('Accuracy')\n",
    "#plt.yticks(np.arange(0,1,0.1))\n",
    "plt.legend()\n",
    "plt.show()"
   ]
  },
  {
   "cell_type": "code",
   "execution_count": 59,
   "metadata": {},
   "outputs": [],
   "source": [
    "model = RNNModel(nn.LSTM, 53, 128, 2, False).to(device)"
   ]
  },
  {
   "cell_type": "code",
   "execution_count": 60,
   "metadata": {},
   "outputs": [],
   "source": [
    "optimizer = optim.Adam(model.parameters(), lr = 0.002, betas = [0.9, 0.99])\n",
    "loss_func = nn.BCEWithLogitsLoss()"
   ]
  },
  {
   "cell_type": "code",
   "execution_count": 61,
   "metadata": {},
   "outputs": [],
   "source": [
    "loss_train_hist, acc_train_hist = [], []\n",
    "loss_valid_hist, acc_valid_hist = [], []\n",
    "\n",
    "best_loss = tc.inf \n",
    "best_model2 = [0]"
   ]
  },
  {
   "cell_type": "code",
   "execution_count": 62,
   "metadata": {},
   "outputs": [
    {
     "name": "stderr",
     "output_type": "stream",
     "text": [
      "Epoch=0: 100%|██████████| 110/110 [00:11<00:00,  9.75batch/s, accuracy=82.6, loss=0.352]\n"
     ]
    },
    {
     "name": "stdout",
     "output_type": "stream",
     "text": [
      "valid loss=0.1439, accuracy=94.28\n",
      "\n",
      "model saved!\n"
     ]
    },
    {
     "name": "stderr",
     "output_type": "stream",
     "text": [
      "Epoch=1: 100%|██████████| 110/110 [00:10<00:00, 10.36batch/s, accuracy=95.6, loss=0.114]\n"
     ]
    },
    {
     "name": "stdout",
     "output_type": "stream",
     "text": [
      "valid loss=0.1163, accuracy=96.17\n",
      "\n",
      "model saved!\n"
     ]
    },
    {
     "name": "stderr",
     "output_type": "stream",
     "text": [
      "Epoch=2: 100%|██████████| 110/110 [00:10<00:00, 10.08batch/s, accuracy=96.9, loss=0.0851]\n"
     ]
    },
    {
     "name": "stdout",
     "output_type": "stream",
     "text": [
      "valid loss=0.09098, accuracy=96.37\n",
      "\n",
      "model saved!\n"
     ]
    },
    {
     "name": "stderr",
     "output_type": "stream",
     "text": [
      "Epoch=3: 100%|██████████| 110/110 [00:10<00:00, 10.52batch/s, accuracy=97.3, loss=0.0719]\n"
     ]
    },
    {
     "name": "stdout",
     "output_type": "stream",
     "text": [
      "valid loss=0.08131, accuracy=96.83\n",
      "\n",
      "model saved!\n"
     ]
    },
    {
     "name": "stderr",
     "output_type": "stream",
     "text": [
      "Epoch=4: 100%|██████████| 110/110 [00:10<00:00, 10.20batch/s, accuracy=97.9, loss=0.0582]\n"
     ]
    },
    {
     "name": "stdout",
     "output_type": "stream",
     "text": [
      "valid loss=0.09005, accuracy=97.27\n",
      "\n"
     ]
    },
    {
     "name": "stderr",
     "output_type": "stream",
     "text": [
      "Epoch=5: 100%|██████████| 110/110 [00:10<00:00, 10.06batch/s, accuracy=98, loss=0.0544]  \n"
     ]
    },
    {
     "name": "stdout",
     "output_type": "stream",
     "text": [
      "valid loss=0.1183, accuracy=96.35\n",
      "\n"
     ]
    },
    {
     "name": "stderr",
     "output_type": "stream",
     "text": [
      "Epoch=6: 100%|██████████| 110/110 [00:10<00:00, 10.02batch/s, accuracy=98, loss=0.0562] \n"
     ]
    },
    {
     "name": "stdout",
     "output_type": "stream",
     "text": [
      "valid loss=0.08247, accuracy=96.92\n",
      "\n"
     ]
    },
    {
     "name": "stderr",
     "output_type": "stream",
     "text": [
      "Epoch=7: 100%|██████████| 110/110 [00:10<00:00, 10.23batch/s, accuracy=98.6, loss=0.038] \n"
     ]
    },
    {
     "name": "stdout",
     "output_type": "stream",
     "text": [
      "valid loss=0.0686, accuracy=97.43\n",
      "\n",
      "model saved!\n"
     ]
    },
    {
     "name": "stderr",
     "output_type": "stream",
     "text": [
      "Epoch=8: 100%|██████████| 110/110 [00:10<00:00, 10.35batch/s, accuracy=98.7, loss=0.0365]\n"
     ]
    },
    {
     "name": "stdout",
     "output_type": "stream",
     "text": [
      "valid loss=0.0655, accuracy=97.87\n",
      "\n",
      "model saved!\n"
     ]
    },
    {
     "name": "stderr",
     "output_type": "stream",
     "text": [
      "Epoch=9: 100%|██████████| 110/110 [00:11<00:00, 10.00batch/s, accuracy=98.8, loss=0.0313]\n"
     ]
    },
    {
     "name": "stdout",
     "output_type": "stream",
     "text": [
      "valid loss=0.08942, accuracy=97.53\n",
      "\n"
     ]
    },
    {
     "name": "stderr",
     "output_type": "stream",
     "text": [
      "Epoch=10: 100%|██████████| 110/110 [00:10<00:00, 10.13batch/s, accuracy=98.9, loss=0.0309]\n"
     ]
    },
    {
     "name": "stdout",
     "output_type": "stream",
     "text": [
      "valid loss=0.06347, accuracy=97.9\n",
      "\n",
      "model saved!\n"
     ]
    },
    {
     "name": "stderr",
     "output_type": "stream",
     "text": [
      "Epoch=11: 100%|██████████| 110/110 [00:10<00:00, 10.23batch/s, accuracy=98.9, loss=0.0281]\n"
     ]
    },
    {
     "name": "stdout",
     "output_type": "stream",
     "text": [
      "valid loss=0.07937, accuracy=97.48\n",
      "\n"
     ]
    },
    {
     "name": "stderr",
     "output_type": "stream",
     "text": [
      "Epoch=12: 100%|██████████| 110/110 [00:10<00:00, 10.46batch/s, accuracy=99, loss=0.029]  \n"
     ]
    },
    {
     "name": "stdout",
     "output_type": "stream",
     "text": [
      "valid loss=0.07846, accuracy=97.65\n",
      "\n"
     ]
    },
    {
     "name": "stderr",
     "output_type": "stream",
     "text": [
      "Epoch=13: 100%|██████████| 110/110 [00:10<00:00, 10.33batch/s, accuracy=99.2, loss=0.023] \n"
     ]
    },
    {
     "name": "stdout",
     "output_type": "stream",
     "text": [
      "valid loss=0.07488, accuracy=97.9\n",
      "\n"
     ]
    },
    {
     "name": "stderr",
     "output_type": "stream",
     "text": [
      "Epoch=14: 100%|██████████| 110/110 [00:10<00:00, 10.19batch/s, accuracy=99.2, loss=0.0226]\n"
     ]
    },
    {
     "name": "stdout",
     "output_type": "stream",
     "text": [
      "valid loss=0.0721, accuracy=97.98\n",
      "\n"
     ]
    },
    {
     "name": "stderr",
     "output_type": "stream",
     "text": [
      "Epoch=15: 100%|██████████| 110/110 [00:10<00:00, 10.45batch/s, accuracy=99.3, loss=0.0209]\n"
     ]
    },
    {
     "name": "stdout",
     "output_type": "stream",
     "text": [
      "valid loss=0.05808, accuracy=98.42\n",
      "\n",
      "model saved!\n"
     ]
    },
    {
     "name": "stderr",
     "output_type": "stream",
     "text": [
      "Epoch=16: 100%|██████████| 110/110 [00:10<00:00, 10.28batch/s, accuracy=99.3, loss=0.0186]\n"
     ]
    },
    {
     "name": "stdout",
     "output_type": "stream",
     "text": [
      "valid loss=0.07312, accuracy=97.85\n",
      "\n"
     ]
    },
    {
     "name": "stderr",
     "output_type": "stream",
     "text": [
      "Epoch=17: 100%|██████████| 110/110 [00:10<00:00, 10.56batch/s, accuracy=99.4, loss=0.0161]\n"
     ]
    },
    {
     "name": "stdout",
     "output_type": "stream",
     "text": [
      "valid loss=0.07051, accuracy=98.03\n",
      "\n"
     ]
    },
    {
     "name": "stderr",
     "output_type": "stream",
     "text": [
      "Epoch=18: 100%|██████████| 110/110 [00:10<00:00, 10.34batch/s, accuracy=99.4, loss=0.0165]\n"
     ]
    },
    {
     "name": "stdout",
     "output_type": "stream",
     "text": [
      "valid loss=0.07683, accuracy=98.1\n",
      "\n"
     ]
    },
    {
     "name": "stderr",
     "output_type": "stream",
     "text": [
      "Epoch=19: 100%|██████████| 110/110 [00:10<00:00, 10.49batch/s, accuracy=99.5, loss=0.0139]\n"
     ]
    },
    {
     "name": "stdout",
     "output_type": "stream",
     "text": [
      "valid loss=0.0765, accuracy=97.98\n",
      "\n"
     ]
    },
    {
     "name": "stderr",
     "output_type": "stream",
     "text": [
      "Epoch=20: 100%|██████████| 110/110 [00:10<00:00, 10.40batch/s, accuracy=99.6, loss=0.0106] \n"
     ]
    },
    {
     "name": "stdout",
     "output_type": "stream",
     "text": [
      "valid loss=0.09068, accuracy=97.97\n",
      "\n"
     ]
    },
    {
     "name": "stderr",
     "output_type": "stream",
     "text": [
      "Epoch=21: 100%|██████████| 110/110 [00:10<00:00, 10.22batch/s, accuracy=99.4, loss=0.0166]\n"
     ]
    },
    {
     "name": "stdout",
     "output_type": "stream",
     "text": [
      "valid loss=0.07284, accuracy=98.13\n",
      "\n"
     ]
    },
    {
     "name": "stderr",
     "output_type": "stream",
     "text": [
      "Epoch=22: 100%|██████████| 110/110 [00:10<00:00, 10.16batch/s, accuracy=99.6, loss=0.0113]\n"
     ]
    },
    {
     "name": "stdout",
     "output_type": "stream",
     "text": [
      "valid loss=0.07516, accuracy=98.2\n",
      "\n"
     ]
    },
    {
     "name": "stderr",
     "output_type": "stream",
     "text": [
      "Epoch=23: 100%|██████████| 110/110 [00:10<00:00, 10.42batch/s, accuracy=99.7, loss=0.00831]\n"
     ]
    },
    {
     "name": "stdout",
     "output_type": "stream",
     "text": [
      "valid loss=0.0898, accuracy=98.03\n",
      "\n"
     ]
    },
    {
     "name": "stderr",
     "output_type": "stream",
     "text": [
      "Epoch=24: 100%|██████████| 110/110 [00:11<00:00,  9.78batch/s, accuracy=99.6, loss=0.0121]\n"
     ]
    },
    {
     "name": "stdout",
     "output_type": "stream",
     "text": [
      "valid loss=0.08489, accuracy=98.17\n",
      "\n"
     ]
    }
   ],
   "source": [
    "N = 25\n",
    "for i in range(N):\n",
    "\n",
    "  model, train_loss, train_acc = train_one_epoch(model, train_loader, loss_func, optimizer, i)\n",
    "  valid_loss, valid_acc = validation(model,valid_loader,loss_func)\n",
    "\n",
    "  acc_train_hist.append(train_acc)\n",
    "  loss_train_hist.append(train_loss)\n",
    "\n",
    "  acc_valid_hist.append(valid_acc)\n",
    "  loss_valid_hist.append(valid_loss)\n",
    "\n",
    "  if valid_loss<best_loss:\n",
    "    best_loss = valid_loss\n",
    "    best_model2[0] == model\n",
    "    print('model saved!')"
   ]
  },
  {
   "cell_type": "code",
   "execution_count": 63,
   "metadata": {},
   "outputs": [
    {
     "data": {
      "image/png": "[encoded data removed]",
      "text/plain": [
       "<Figure size 640x480 with 1 Axes>"
      ]
     },
     "metadata": {},
     "output_type": "display_data"
    }
   ],
   "source": [
    "plt.plot(range(N), loss_train_hist, label='train loss')\n",
    "plt.plot(range(N), loss_valid_hist, label='valid loss')\n",
    "plt.xlabel('Epoch')\n",
    "plt.ylabel('Loss')\n",
    "#plt.yticks(np.arange(0,1,0.1))\n",
    "plt.legend()\n",
    "plt.show()"
   ]
  },
  {
   "cell_type": "code",
   "execution_count": 64,
   "metadata": {},
   "outputs": [
    {
     "data": {
      "image/png": "[encoded data removed]",
      "text/plain": [
       "<Figure size 640x480 with 1 Axes>"
      ]
     },
     "metadata": {},
     "output_type": "display_data"
    }
   ],
   "source": [
    "plt.plot(range(N), acc_train_hist, label='train accuracy')\n",
    "plt.plot(range(N), acc_valid_hist, label='valid accuracy')\n",
    "plt.xlabel('Epoch')\n",
    "plt.ylabel('Accuracy')\n",
    "#plt.yticks(np.arange(0,1,0.1))\n",
    "plt.legend()\n",
    "plt.show()"
   ]
  },
  {
   "cell_type": "code",
   "execution_count": null,
   "metadata": {},
   "outputs": [],
   "source": []
  }
 ],
 "metadata": {
  "kernelspec": {
   "display_name": "Python 3",
   "language": "python",
   "name": "python3"
  },
  "language_info": {
   "codemirror_mode": {
    "name": "ipython",
    "version": 3
   },
   "file_extension": ".py",
   "mimetype": "text/x-python",
   "name": "python",
   "nbconvert_exporter": "python",
   "pygments_lexer": "ipython3",
   "version": "3.10.9"
  },
  "orig_nbformat": 4,
  "vscode": {
   "interpreter": {
    "hash": "e7370f93d1d0cde622a1f8e1c04877d8463912d04d973331ad4851f04de6915a"
   }
  }
 },
 "nbformat": 4,
 "nbformat_minor": 2
}
